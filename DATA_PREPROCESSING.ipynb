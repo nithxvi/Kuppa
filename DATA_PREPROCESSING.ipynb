{
 "cells": [
  {
   "cell_type": "markdown",
   "id": "9ce726e8",
   "metadata": {},
   "source": [
    "# DATA PREPROCESSING AND DATA CLEANING:"
   ]
  },
  {
   "cell_type": "code",
   "execution_count": 1,
   "id": "dc1b9182",
   "metadata": {},
   "outputs": [],
   "source": [
    "import pandas as pd\n",
    "import numpy as np"
   ]
  },
  {
   "cell_type": "code",
   "execution_count": 2,
   "id": "467828c6",
   "metadata": {},
   "outputs": [
    {
     "data": {
      "text/html": [
       "<div>\n",
       "<style scoped>\n",
       "    .dataframe tbody tr th:only-of-type {\n",
       "        vertical-align: middle;\n",
       "    }\n",
       "\n",
       "    .dataframe tbody tr th {\n",
       "        vertical-align: top;\n",
       "    }\n",
       "\n",
       "    .dataframe thead th {\n",
       "        text-align: right;\n",
       "    }\n",
       "</style>\n",
       "<table border=\"1\" class=\"dataframe\">\n",
       "  <thead>\n",
       "    <tr style=\"text-align: right;\">\n",
       "      <th></th>\n",
       "      <th>label</th>\n",
       "      <th>text</th>\n",
       "    </tr>\n",
       "  </thead>\n",
       "  <tbody>\n",
       "    <tr>\n",
       "      <th>0</th>\n",
       "      <td>Psoriasis</td>\n",
       "      <td>I have been experiencing a skin rash on my arm...</td>\n",
       "    </tr>\n",
       "    <tr>\n",
       "      <th>1</th>\n",
       "      <td>Psoriasis</td>\n",
       "      <td>My skin has been peeling, especially on my kne...</td>\n",
       "    </tr>\n",
       "    <tr>\n",
       "      <th>2</th>\n",
       "      <td>Psoriasis</td>\n",
       "      <td>I have been experiencing joint pain in my fing...</td>\n",
       "    </tr>\n",
       "    <tr>\n",
       "      <th>3</th>\n",
       "      <td>Psoriasis</td>\n",
       "      <td>There is a silver like dusting on my skin, esp...</td>\n",
       "    </tr>\n",
       "    <tr>\n",
       "      <th>4</th>\n",
       "      <td>Psoriasis</td>\n",
       "      <td>My nails have small dents or pits in them, and...</td>\n",
       "    </tr>\n",
       "  </tbody>\n",
       "</table>\n",
       "</div>"
      ],
      "text/plain": [
       "       label                                               text\n",
       "0  Psoriasis  I have been experiencing a skin rash on my arm...\n",
       "1  Psoriasis  My skin has been peeling, especially on my kne...\n",
       "2  Psoriasis  I have been experiencing joint pain in my fing...\n",
       "3  Psoriasis  There is a silver like dusting on my skin, esp...\n",
       "4  Psoriasis  My nails have small dents or pits in them, and..."
      ]
     },
     "execution_count": 2,
     "metadata": {},
     "output_type": "execute_result"
    }
   ],
   "source": [
    "Data = pd.read_csv('SYMPTOMS.csv', usecols=['label','text'])\n",
    "Data.head()"
   ]
  },
  {
   "cell_type": "code",
   "execution_count": 3,
   "id": "790f65cb",
   "metadata": {},
   "outputs": [
    {
     "data": {
      "text/html": [
       "<div>\n",
       "<style scoped>\n",
       "    .dataframe tbody tr th:only-of-type {\n",
       "        vertical-align: middle;\n",
       "    }\n",
       "\n",
       "    .dataframe tbody tr th {\n",
       "        vertical-align: top;\n",
       "    }\n",
       "\n",
       "    .dataframe thead th {\n",
       "        text-align: right;\n",
       "    }\n",
       "</style>\n",
       "<table border=\"1\" class=\"dataframe\">\n",
       "  <thead>\n",
       "    <tr style=\"text-align: right;\">\n",
       "      <th></th>\n",
       "      <th>label</th>\n",
       "      <th>text</th>\n",
       "    </tr>\n",
       "  </thead>\n",
       "  <tbody>\n",
       "    <tr>\n",
       "      <th>1195</th>\n",
       "      <td>diabetes</td>\n",
       "      <td>I'm shaking and trembling all over. I've lost ...</td>\n",
       "    </tr>\n",
       "    <tr>\n",
       "      <th>1196</th>\n",
       "      <td>diabetes</td>\n",
       "      <td>Particularly in the crevices of my skin, I hav...</td>\n",
       "    </tr>\n",
       "    <tr>\n",
       "      <th>1197</th>\n",
       "      <td>diabetes</td>\n",
       "      <td>I regularly experience these intense urges and...</td>\n",
       "    </tr>\n",
       "    <tr>\n",
       "      <th>1198</th>\n",
       "      <td>diabetes</td>\n",
       "      <td>I have trouble breathing, especially outside. ...</td>\n",
       "    </tr>\n",
       "    <tr>\n",
       "      <th>1199</th>\n",
       "      <td>diabetes</td>\n",
       "      <td>I constantly sneeze and have a dry cough. My i...</td>\n",
       "    </tr>\n",
       "  </tbody>\n",
       "</table>\n",
       "</div>"
      ],
      "text/plain": [
       "         label                                               text\n",
       "1195  diabetes  I'm shaking and trembling all over. I've lost ...\n",
       "1196  diabetes  Particularly in the crevices of my skin, I hav...\n",
       "1197  diabetes  I regularly experience these intense urges and...\n",
       "1198  diabetes  I have trouble breathing, especially outside. ...\n",
       "1199  diabetes  I constantly sneeze and have a dry cough. My i..."
      ]
     },
     "execution_count": 3,
     "metadata": {},
     "output_type": "execute_result"
    }
   ],
   "source": [
    "Data.tail()"
   ]
  },
  {
   "cell_type": "code",
   "execution_count": 4,
   "id": "496cd8d3",
   "metadata": {},
   "outputs": [
    {
     "data": {
      "text/plain": [
       "(1200, 2)"
      ]
     },
     "execution_count": 4,
     "metadata": {},
     "output_type": "execute_result"
    }
   ],
   "source": [
    "Data.shape"
   ]
  },
  {
   "cell_type": "code",
   "execution_count": 5,
   "id": "66c4fde4",
   "metadata": {},
   "outputs": [],
   "source": [
    "Data = Data.dropna()"
   ]
  },
  {
   "cell_type": "code",
   "execution_count": 6,
   "id": "9de57de5",
   "metadata": {},
   "outputs": [
    {
     "data": {
      "text/plain": [
       "(1200, 2)"
      ]
     },
     "execution_count": 6,
     "metadata": {},
     "output_type": "execute_result"
    }
   ],
   "source": [
    "Data.shape"
   ]
  },
  {
   "cell_type": "code",
   "execution_count": 7,
   "id": "1c79ea90",
   "metadata": {},
   "outputs": [
    {
     "data": {
      "text/plain": [
       "2400"
      ]
     },
     "execution_count": 7,
     "metadata": {},
     "output_type": "execute_result"
    }
   ],
   "source": [
    "Data.size"
   ]
  },
  {
   "cell_type": "code",
   "execution_count": 8,
   "id": "2f202886",
   "metadata": {},
   "outputs": [
    {
     "data": {
      "text/plain": [
       "label    0\n",
       "text     0\n",
       "dtype: int64"
      ]
     },
     "execution_count": 8,
     "metadata": {},
     "output_type": "execute_result"
    }
   ],
   "source": [
    "Data.isnull().sum()"
   ]
  },
  {
   "cell_type": "code",
   "execution_count": 9,
   "id": "ec6b23e3",
   "metadata": {},
   "outputs": [
    {
     "name": "stdout",
     "output_type": "stream",
     "text": [
      "<class 'pandas.core.frame.DataFrame'>\n",
      "RangeIndex: 1200 entries, 0 to 1199\n",
      "Data columns (total 2 columns):\n",
      " #   Column  Non-Null Count  Dtype \n",
      "---  ------  --------------  ----- \n",
      " 0   label   1200 non-null   object\n",
      " 1   text    1200 non-null   object\n",
      "dtypes: object(2)\n",
      "memory usage: 18.9+ KB\n"
     ]
    }
   ],
   "source": [
    "Data.info()"
   ]
  },
  {
   "cell_type": "code",
   "execution_count": 10,
   "id": "45d6ed07",
   "metadata": {},
   "outputs": [
    {
     "data": {
      "text/plain": [
       "Index(['label', 'text'], dtype='object')"
      ]
     },
     "execution_count": 10,
     "metadata": {},
     "output_type": "execute_result"
    }
   ],
   "source": [
    "Data.columns"
   ]
  },
  {
   "cell_type": "code",
   "execution_count": 11,
   "id": "5084aa87",
   "metadata": {},
   "outputs": [
    {
     "data": {
      "text/plain": [
       "array(['Psoriasis', 'Varicose Veins', 'Typhoid', 'Chicken pox',\n",
       "       'Impetigo', 'Dengue', 'Fungal infection', 'Common Cold',\n",
       "       'Pneumonia', 'Dimorphic Hemorrhoids', 'Arthritis', 'Acne',\n",
       "       'Bronchial Asthma', 'Hypertension', 'Migraine',\n",
       "       'Cervical spondylosis', 'Jaundice', 'Malaria',\n",
       "       'urinary tract infection', 'allergy',\n",
       "       'gastroesophageal reflux disease', 'drug reaction',\n",
       "       'peptic ulcer disease', 'diabetes'], dtype=object)"
      ]
     },
     "execution_count": 11,
     "metadata": {},
     "output_type": "execute_result"
    }
   ],
   "source": [
    "Data['label'].unique()"
   ]
  },
  {
   "cell_type": "code",
   "execution_count": 12,
   "id": "ccdbed68",
   "metadata": {},
   "outputs": [
    {
     "data": {
      "text/plain": [
       "label\n",
       "Psoriasis                          50\n",
       "Varicose Veins                     50\n",
       "peptic ulcer disease               50\n",
       "drug reaction                      50\n",
       "gastroesophageal reflux disease    50\n",
       "allergy                            50\n",
       "urinary tract infection            50\n",
       "Malaria                            50\n",
       "Jaundice                           50\n",
       "Cervical spondylosis               50\n",
       "Migraine                           50\n",
       "Hypertension                       50\n",
       "Bronchial Asthma                   50\n",
       "Acne                               50\n",
       "Arthritis                          50\n",
       "Dimorphic Hemorrhoids              50\n",
       "Pneumonia                          50\n",
       "Common Cold                        50\n",
       "Fungal infection                   50\n",
       "Dengue                             50\n",
       "Impetigo                           50\n",
       "Chicken pox                        50\n",
       "Typhoid                            50\n",
       "diabetes                           50\n",
       "Name: count, dtype: int64"
      ]
     },
     "execution_count": 12,
     "metadata": {},
     "output_type": "execute_result"
    }
   ],
   "source": [
    "Data['label'].value_counts()"
   ]
  },
  {
   "cell_type": "code",
   "execution_count": 13,
   "id": "0e9f15ba",
   "metadata": {},
   "outputs": [
    {
     "data": {
      "text/html": [
       "<div>\n",
       "<style scoped>\n",
       "    .dataframe tbody tr th:only-of-type {\n",
       "        vertical-align: middle;\n",
       "    }\n",
       "\n",
       "    .dataframe tbody tr th {\n",
       "        vertical-align: top;\n",
       "    }\n",
       "\n",
       "    .dataframe thead tr th {\n",
       "        text-align: left;\n",
       "    }\n",
       "\n",
       "    .dataframe thead tr:last-of-type th {\n",
       "        text-align: right;\n",
       "    }\n",
       "</style>\n",
       "<table border=\"1\" class=\"dataframe\">\n",
       "  <thead>\n",
       "    <tr>\n",
       "      <th></th>\n",
       "      <th colspan=\"4\" halign=\"left\">text</th>\n",
       "    </tr>\n",
       "    <tr>\n",
       "      <th></th>\n",
       "      <th>count</th>\n",
       "      <th>unique</th>\n",
       "      <th>top</th>\n",
       "      <th>freq</th>\n",
       "    </tr>\n",
       "    <tr>\n",
       "      <th>label</th>\n",
       "      <th></th>\n",
       "      <th></th>\n",
       "      <th></th>\n",
       "      <th></th>\n",
       "    </tr>\n",
       "  </thead>\n",
       "  <tbody>\n",
       "    <tr>\n",
       "      <th>Acne</th>\n",
       "      <td>50</td>\n",
       "      <td>46</td>\n",
       "      <td>A nasty rash has just appeared on my skin. Bla...</td>\n",
       "      <td>2</td>\n",
       "    </tr>\n",
       "    <tr>\n",
       "      <th>Arthritis</th>\n",
       "      <td>50</td>\n",
       "      <td>46</td>\n",
       "      <td>I've been feeling really weak in my muscles an...</td>\n",
       "      <td>3</td>\n",
       "    </tr>\n",
       "    <tr>\n",
       "      <th>Bronchial Asthma</th>\n",
       "      <td>50</td>\n",
       "      <td>49</td>\n",
       "      <td>I've been struggling with fatigue and a consta...</td>\n",
       "      <td>2</td>\n",
       "    </tr>\n",
       "    <tr>\n",
       "      <th>Cervical spondylosis</th>\n",
       "      <td>50</td>\n",
       "      <td>49</td>\n",
       "      <td>Back pain, a persistent cough, and numbness in...</td>\n",
       "      <td>2</td>\n",
       "    </tr>\n",
       "    <tr>\n",
       "      <th>Chicken pox</th>\n",
       "      <td>50</td>\n",
       "      <td>49</td>\n",
       "      <td>I'm feeling fatigued and have no energy. I can...</td>\n",
       "      <td>2</td>\n",
       "    </tr>\n",
       "    <tr>\n",
       "      <th>Common Cold</th>\n",
       "      <td>50</td>\n",
       "      <td>49</td>\n",
       "      <td>I've been quite exhausted and ill. My throat h...</td>\n",
       "      <td>2</td>\n",
       "    </tr>\n",
       "    <tr>\n",
       "      <th>Dengue</th>\n",
       "      <td>50</td>\n",
       "      <td>50</td>\n",
       "      <td>I am facing severe joint pain and vomitting. I...</td>\n",
       "      <td>1</td>\n",
       "    </tr>\n",
       "    <tr>\n",
       "      <th>Dimorphic Hemorrhoids</th>\n",
       "      <td>50</td>\n",
       "      <td>41</td>\n",
       "      <td>I've been constipated and it's really hard to ...</td>\n",
       "      <td>3</td>\n",
       "    </tr>\n",
       "    <tr>\n",
       "      <th>Fungal infection</th>\n",
       "      <td>50</td>\n",
       "      <td>50</td>\n",
       "      <td>I have raised lumps, a rash that looks red and...</td>\n",
       "      <td>1</td>\n",
       "    </tr>\n",
       "    <tr>\n",
       "      <th>Hypertension</th>\n",
       "      <td>50</td>\n",
       "      <td>50</td>\n",
       "      <td>I have been experiencing a headache, chest pai...</td>\n",
       "      <td>1</td>\n",
       "    </tr>\n",
       "    <tr>\n",
       "      <th>Impetigo</th>\n",
       "      <td>50</td>\n",
       "      <td>50</td>\n",
       "      <td>I have developed a skin rash on my face and ne...</td>\n",
       "      <td>1</td>\n",
       "    </tr>\n",
       "    <tr>\n",
       "      <th>Jaundice</th>\n",
       "      <td>50</td>\n",
       "      <td>38</td>\n",
       "      <td>I've been feeling extremely scratchy, sick, an...</td>\n",
       "      <td>4</td>\n",
       "    </tr>\n",
       "    <tr>\n",
       "      <th>Malaria</th>\n",
       "      <td>50</td>\n",
       "      <td>44</td>\n",
       "      <td>I have a high fever, severe itching, chills, a...</td>\n",
       "      <td>2</td>\n",
       "    </tr>\n",
       "    <tr>\n",
       "      <th>Migraine</th>\n",
       "      <td>50</td>\n",
       "      <td>47</td>\n",
       "      <td>Along with excessive appetite, a stiff neck, h...</td>\n",
       "      <td>2</td>\n",
       "    </tr>\n",
       "    <tr>\n",
       "      <th>Pneumonia</th>\n",
       "      <td>50</td>\n",
       "      <td>47</td>\n",
       "      <td>I'm having a hard time breathing and I feel re...</td>\n",
       "      <td>2</td>\n",
       "    </tr>\n",
       "    <tr>\n",
       "      <th>Psoriasis</th>\n",
       "      <td>50</td>\n",
       "      <td>50</td>\n",
       "      <td>I have been experiencing a skin rash on my arm...</td>\n",
       "      <td>1</td>\n",
       "    </tr>\n",
       "    <tr>\n",
       "      <th>Typhoid</th>\n",
       "      <td>50</td>\n",
       "      <td>50</td>\n",
       "      <td>I have constipation and belly pain, and it's b...</td>\n",
       "      <td>1</td>\n",
       "    </tr>\n",
       "    <tr>\n",
       "      <th>Varicose Veins</th>\n",
       "      <td>50</td>\n",
       "      <td>50</td>\n",
       "      <td>I have a rash on my legs that is causing a lot...</td>\n",
       "      <td>1</td>\n",
       "    </tr>\n",
       "    <tr>\n",
       "      <th>allergy</th>\n",
       "      <td>50</td>\n",
       "      <td>50</td>\n",
       "      <td>I have a runny nose and I am sneezing all the ...</td>\n",
       "      <td>1</td>\n",
       "    </tr>\n",
       "    <tr>\n",
       "      <th>diabetes</th>\n",
       "      <td>50</td>\n",
       "      <td>50</td>\n",
       "      <td>I have increased thirst and frequent urination...</td>\n",
       "      <td>1</td>\n",
       "    </tr>\n",
       "    <tr>\n",
       "      <th>drug reaction</th>\n",
       "      <td>50</td>\n",
       "      <td>50</td>\n",
       "      <td>I have a metallic taste in my mouth, and also ...</td>\n",
       "      <td>1</td>\n",
       "    </tr>\n",
       "    <tr>\n",
       "      <th>gastroesophageal reflux disease</th>\n",
       "      <td>50</td>\n",
       "      <td>48</td>\n",
       "      <td>I'm not in the mood to eat, and swallowing is ...</td>\n",
       "      <td>2</td>\n",
       "    </tr>\n",
       "    <tr>\n",
       "      <th>peptic ulcer disease</th>\n",
       "      <td>50</td>\n",
       "      <td>50</td>\n",
       "      <td>I have a burning sensation in my upper abdomen...</td>\n",
       "      <td>1</td>\n",
       "    </tr>\n",
       "    <tr>\n",
       "      <th>urinary tract infection</th>\n",
       "      <td>50</td>\n",
       "      <td>50</td>\n",
       "      <td>Frequent urges to urinate with little output, ...</td>\n",
       "      <td>1</td>\n",
       "    </tr>\n",
       "  </tbody>\n",
       "</table>\n",
       "</div>"
      ],
      "text/plain": [
       "                                 text         \\\n",
       "                                count unique   \n",
       "label                                          \n",
       "Acne                               50     46   \n",
       "Arthritis                          50     46   \n",
       "Bronchial Asthma                   50     49   \n",
       "Cervical spondylosis               50     49   \n",
       "Chicken pox                        50     49   \n",
       "Common Cold                        50     49   \n",
       "Dengue                             50     50   \n",
       "Dimorphic Hemorrhoids              50     41   \n",
       "Fungal infection                   50     50   \n",
       "Hypertension                       50     50   \n",
       "Impetigo                           50     50   \n",
       "Jaundice                           50     38   \n",
       "Malaria                            50     44   \n",
       "Migraine                           50     47   \n",
       "Pneumonia                          50     47   \n",
       "Psoriasis                          50     50   \n",
       "Typhoid                            50     50   \n",
       "Varicose Veins                     50     50   \n",
       "allergy                            50     50   \n",
       "diabetes                           50     50   \n",
       "drug reaction                      50     50   \n",
       "gastroesophageal reflux disease    50     48   \n",
       "peptic ulcer disease               50     50   \n",
       "urinary tract infection            50     50   \n",
       "\n",
       "                                                                                    \\\n",
       "                                                                               top   \n",
       "label                                                                                \n",
       "Acne                             A nasty rash has just appeared on my skin. Bla...   \n",
       "Arthritis                        I've been feeling really weak in my muscles an...   \n",
       "Bronchial Asthma                 I've been struggling with fatigue and a consta...   \n",
       "Cervical spondylosis             Back pain, a persistent cough, and numbness in...   \n",
       "Chicken pox                      I'm feeling fatigued and have no energy. I can...   \n",
       "Common Cold                      I've been quite exhausted and ill. My throat h...   \n",
       "Dengue                           I am facing severe joint pain and vomitting. I...   \n",
       "Dimorphic Hemorrhoids            I've been constipated and it's really hard to ...   \n",
       "Fungal infection                 I have raised lumps, a rash that looks red and...   \n",
       "Hypertension                     I have been experiencing a headache, chest pai...   \n",
       "Impetigo                         I have developed a skin rash on my face and ne...   \n",
       "Jaundice                         I've been feeling extremely scratchy, sick, an...   \n",
       "Malaria                          I have a high fever, severe itching, chills, a...   \n",
       "Migraine                         Along with excessive appetite, a stiff neck, h...   \n",
       "Pneumonia                        I'm having a hard time breathing and I feel re...   \n",
       "Psoriasis                        I have been experiencing a skin rash on my arm...   \n",
       "Typhoid                          I have constipation and belly pain, and it's b...   \n",
       "Varicose Veins                   I have a rash on my legs that is causing a lot...   \n",
       "allergy                          I have a runny nose and I am sneezing all the ...   \n",
       "diabetes                         I have increased thirst and frequent urination...   \n",
       "drug reaction                    I have a metallic taste in my mouth, and also ...   \n",
       "gastroesophageal reflux disease  I'm not in the mood to eat, and swallowing is ...   \n",
       "peptic ulcer disease             I have a burning sensation in my upper abdomen...   \n",
       "urinary tract infection          Frequent urges to urinate with little output, ...   \n",
       "\n",
       "                                      \n",
       "                                freq  \n",
       "label                                 \n",
       "Acne                               2  \n",
       "Arthritis                          3  \n",
       "Bronchial Asthma                   2  \n",
       "Cervical spondylosis               2  \n",
       "Chicken pox                        2  \n",
       "Common Cold                        2  \n",
       "Dengue                             1  \n",
       "Dimorphic Hemorrhoids              3  \n",
       "Fungal infection                   1  \n",
       "Hypertension                       1  \n",
       "Impetigo                           1  \n",
       "Jaundice                           4  \n",
       "Malaria                            2  \n",
       "Migraine                           2  \n",
       "Pneumonia                          2  \n",
       "Psoriasis                          1  \n",
       "Typhoid                            1  \n",
       "Varicose Veins                     1  \n",
       "allergy                            1  \n",
       "diabetes                           1  \n",
       "drug reaction                      1  \n",
       "gastroesophageal reflux disease    2  \n",
       "peptic ulcer disease               1  \n",
       "urinary tract infection            1  "
      ]
     },
     "execution_count": 13,
     "metadata": {},
     "output_type": "execute_result"
    }
   ],
   "source": [
    "Data.groupby('label').describe()"
   ]
  },
  {
   "cell_type": "markdown",
   "id": "53937d7c",
   "metadata": {},
   "source": [
    "#### BEFORE LABEL ENCODER"
   ]
  },
  {
   "cell_type": "code",
   "execution_count": 14,
   "id": "66b1ec6b",
   "metadata": {},
   "outputs": [
    {
     "data": {
      "text/html": [
       "<div>\n",
       "<style scoped>\n",
       "    .dataframe tbody tr th:only-of-type {\n",
       "        vertical-align: middle;\n",
       "    }\n",
       "\n",
       "    .dataframe tbody tr th {\n",
       "        vertical-align: top;\n",
       "    }\n",
       "\n",
       "    .dataframe thead th {\n",
       "        text-align: right;\n",
       "    }\n",
       "</style>\n",
       "<table border=\"1\" class=\"dataframe\">\n",
       "  <thead>\n",
       "    <tr style=\"text-align: right;\">\n",
       "      <th></th>\n",
       "      <th>label</th>\n",
       "      <th>text</th>\n",
       "    </tr>\n",
       "  </thead>\n",
       "  <tbody>\n",
       "    <tr>\n",
       "      <th>0</th>\n",
       "      <td>Psoriasis</td>\n",
       "      <td>I have been experiencing a skin rash on my arm...</td>\n",
       "    </tr>\n",
       "    <tr>\n",
       "      <th>1</th>\n",
       "      <td>Psoriasis</td>\n",
       "      <td>My skin has been peeling, especially on my kne...</td>\n",
       "    </tr>\n",
       "    <tr>\n",
       "      <th>2</th>\n",
       "      <td>Psoriasis</td>\n",
       "      <td>I have been experiencing joint pain in my fing...</td>\n",
       "    </tr>\n",
       "    <tr>\n",
       "      <th>3</th>\n",
       "      <td>Psoriasis</td>\n",
       "      <td>There is a silver like dusting on my skin, esp...</td>\n",
       "    </tr>\n",
       "    <tr>\n",
       "      <th>4</th>\n",
       "      <td>Psoriasis</td>\n",
       "      <td>My nails have small dents or pits in them, and...</td>\n",
       "    </tr>\n",
       "  </tbody>\n",
       "</table>\n",
       "</div>"
      ],
      "text/plain": [
       "       label                                               text\n",
       "0  Psoriasis  I have been experiencing a skin rash on my arm...\n",
       "1  Psoriasis  My skin has been peeling, especially on my kne...\n",
       "2  Psoriasis  I have been experiencing joint pain in my fing...\n",
       "3  Psoriasis  There is a silver like dusting on my skin, esp...\n",
       "4  Psoriasis  My nails have small dents or pits in them, and..."
      ]
     },
     "execution_count": 14,
     "metadata": {},
     "output_type": "execute_result"
    }
   ],
   "source": [
    "Data.head()"
   ]
  },
  {
   "cell_type": "code",
   "execution_count": 15,
   "id": "ffa71fb1",
   "metadata": {},
   "outputs": [],
   "source": [
    "from sklearn.preprocessing import LabelEncoder\n",
    "var_mod = ['text','label']\n",
    "le = LabelEncoder()\n",
    "for i in var_mod:\n",
    "    Data[i] = le.fit_transform(Data[i]).astype(int)"
   ]
  },
  {
   "cell_type": "markdown",
   "id": "ae4ecd0f",
   "metadata": {},
   "source": [
    "#### AFTER LABEL ENCODER"
   ]
  },
  {
   "cell_type": "code",
   "execution_count": 16,
   "id": "1450552e",
   "metadata": {},
   "outputs": [
    {
     "data": {
      "text/html": [
       "<div>\n",
       "<style scoped>\n",
       "    .dataframe tbody tr th:only-of-type {\n",
       "        vertical-align: middle;\n",
       "    }\n",
       "\n",
       "    .dataframe tbody tr th {\n",
       "        vertical-align: top;\n",
       "    }\n",
       "\n",
       "    .dataframe thead th {\n",
       "        text-align: right;\n",
       "    }\n",
       "</style>\n",
       "<table border=\"1\" class=\"dataframe\">\n",
       "  <thead>\n",
       "    <tr style=\"text-align: right;\">\n",
       "      <th></th>\n",
       "      <th>label</th>\n",
       "      <th>text</th>\n",
       "    </tr>\n",
       "  </thead>\n",
       "  <tbody>\n",
       "    <tr>\n",
       "      <th>0</th>\n",
       "      <td>15</td>\n",
       "      <td>272</td>\n",
       "    </tr>\n",
       "    <tr>\n",
       "      <th>1</th>\n",
       "      <td>15</td>\n",
       "      <td>953</td>\n",
       "    </tr>\n",
       "    <tr>\n",
       "      <th>2</th>\n",
       "      <td>15</td>\n",
       "      <td>293</td>\n",
       "    </tr>\n",
       "    <tr>\n",
       "      <th>3</th>\n",
       "      <td>15</td>\n",
       "      <td>1126</td>\n",
       "    </tr>\n",
       "    <tr>\n",
       "      <th>4</th>\n",
       "      <td>15</td>\n",
       "      <td>915</td>\n",
       "    </tr>\n",
       "  </tbody>\n",
       "</table>\n",
       "</div>"
      ],
      "text/plain": [
       "   label  text\n",
       "0     15   272\n",
       "1     15   953\n",
       "2     15   293\n",
       "3     15  1126\n",
       "4     15   915"
      ]
     },
     "execution_count": 16,
     "metadata": {},
     "output_type": "execute_result"
    }
   ],
   "source": [
    "Data.head()"
   ]
  },
  {
   "cell_type": "code",
   "execution_count": 17,
   "id": "df7a5639",
   "metadata": {},
   "outputs": [
    {
     "data": {
      "text/plain": [
       "0       False\n",
       "1       False\n",
       "2       False\n",
       "3       False\n",
       "4       False\n",
       "        ...  \n",
       "1195    False\n",
       "1196    False\n",
       "1197    False\n",
       "1198    False\n",
       "1199    False\n",
       "Length: 1200, dtype: bool"
      ]
     },
     "execution_count": 17,
     "metadata": {},
     "output_type": "execute_result"
    }
   ],
   "source": [
    "Data.duplicated()"
   ]
  },
  {
   "cell_type": "code",
   "execution_count": 18,
   "id": "e48081a2",
   "metadata": {},
   "outputs": [
    {
     "data": {
      "text/plain": [
       "47"
      ]
     },
     "execution_count": 18,
     "metadata": {},
     "output_type": "execute_result"
    }
   ],
   "source": [
    "Data.duplicated().sum()"
   ]
  },
  {
   "cell_type": "code",
   "execution_count": 19,
   "id": "0b5cb555",
   "metadata": {},
   "outputs": [],
   "source": [
    "Data = Data.drop_duplicates()"
   ]
  },
  {
   "cell_type": "code",
   "execution_count": 20,
   "id": "2eebca54",
   "metadata": {},
   "outputs": [
    {
     "data": {
      "text/plain": [
       "0"
      ]
     },
     "execution_count": 20,
     "metadata": {},
     "output_type": "execute_result"
    }
   ],
   "source": [
    "Data.duplicated().sum()"
   ]
  },
  {
   "cell_type": "code",
   "execution_count": null,
   "id": "ea6ce03c",
   "metadata": {},
   "outputs": [],
   "source": []
  }
 ],
 "metadata": {
  "kernelspec": {
   "display_name": "Python 3 (ipykernel)",
   "language": "python",
   "name": "python3"
  },
  "language_info": {
   "codemirror_mode": {
    "name": "ipython",
    "version": 3
   },
   "file_extension": ".py",
   "mimetype": "text/x-python",
   "name": "python",
   "nbconvert_exporter": "python",
   "pygments_lexer": "ipython3",
   "version": "3.11.3"
  }
 },
 "nbformat": 4,
 "nbformat_minor": 5
}
