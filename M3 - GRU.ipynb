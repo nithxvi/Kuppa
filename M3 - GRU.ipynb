{
 "cells": [
  {
   "cell_type": "markdown",
   "id": "4fd9416f",
   "metadata": {},
   "source": [
    "### GRATED RECURREND UNIT ARCHITECTURE "
   ]
  },
  {
   "cell_type": "code",
   "execution_count": 1,
   "id": "c2f70a17",
   "metadata": {},
   "outputs": [],
   "source": [
    "import pandas as pd\n",
    "import numpy as np"
   ]
  },
  {
   "cell_type": "code",
   "execution_count": 2,
   "id": "a226a92b",
   "metadata": {},
   "outputs": [
    {
     "data": {
      "text/html": [
       "<div>\n",
       "<style scoped>\n",
       "    .dataframe tbody tr th:only-of-type {\n",
       "        vertical-align: middle;\n",
       "    }\n",
       "\n",
       "    .dataframe tbody tr th {\n",
       "        vertical-align: top;\n",
       "    }\n",
       "\n",
       "    .dataframe thead th {\n",
       "        text-align: right;\n",
       "    }\n",
       "</style>\n",
       "<table border=\"1\" class=\"dataframe\">\n",
       "  <thead>\n",
       "    <tr style=\"text-align: right;\">\n",
       "      <th></th>\n",
       "      <th>label</th>\n",
       "      <th>text</th>\n",
       "    </tr>\n",
       "  </thead>\n",
       "  <tbody>\n",
       "    <tr>\n",
       "      <th>0</th>\n",
       "      <td>Psoriasis</td>\n",
       "      <td>I have been experiencing a skin rash on my arm...</td>\n",
       "    </tr>\n",
       "    <tr>\n",
       "      <th>1</th>\n",
       "      <td>Psoriasis</td>\n",
       "      <td>My skin has been peeling, especially on my kne...</td>\n",
       "    </tr>\n",
       "    <tr>\n",
       "      <th>2</th>\n",
       "      <td>Psoriasis</td>\n",
       "      <td>I have been experiencing joint pain in my fing...</td>\n",
       "    </tr>\n",
       "    <tr>\n",
       "      <th>3</th>\n",
       "      <td>Psoriasis</td>\n",
       "      <td>There is a silver like dusting on my skin, esp...</td>\n",
       "    </tr>\n",
       "    <tr>\n",
       "      <th>4</th>\n",
       "      <td>Psoriasis</td>\n",
       "      <td>My nails have small dents or pits in them, and...</td>\n",
       "    </tr>\n",
       "  </tbody>\n",
       "</table>\n",
       "</div>"
      ],
      "text/plain": [
       "       label                                               text\n",
       "0  Psoriasis  I have been experiencing a skin rash on my arm...\n",
       "1  Psoriasis  My skin has been peeling, especially on my kne...\n",
       "2  Psoriasis  I have been experiencing joint pain in my fing...\n",
       "3  Psoriasis  There is a silver like dusting on my skin, esp...\n",
       "4  Psoriasis  My nails have small dents or pits in them, and..."
      ]
     },
     "execution_count": 2,
     "metadata": {},
     "output_type": "execute_result"
    }
   ],
   "source": [
    "Data = pd.read_csv('SYMPTOMS.csv', usecols=['label','text'])\n",
    "Data.head()"
   ]
  },
  {
   "cell_type": "code",
   "execution_count": 3,
   "id": "018a5021",
   "metadata": {},
   "outputs": [
    {
     "data": {
      "text/html": [
       "<div>\n",
       "<style scoped>\n",
       "    .dataframe tbody tr th:only-of-type {\n",
       "        vertical-align: middle;\n",
       "    }\n",
       "\n",
       "    .dataframe tbody tr th {\n",
       "        vertical-align: top;\n",
       "    }\n",
       "\n",
       "    .dataframe thead th {\n",
       "        text-align: right;\n",
       "    }\n",
       "</style>\n",
       "<table border=\"1\" class=\"dataframe\">\n",
       "  <thead>\n",
       "    <tr style=\"text-align: right;\">\n",
       "      <th></th>\n",
       "      <th>label</th>\n",
       "      <th>text</th>\n",
       "    </tr>\n",
       "  </thead>\n",
       "  <tbody>\n",
       "    <tr>\n",
       "      <th>1195</th>\n",
       "      <td>diabetes</td>\n",
       "      <td>I'm shaking and trembling all over. I've lost ...</td>\n",
       "    </tr>\n",
       "    <tr>\n",
       "      <th>1196</th>\n",
       "      <td>diabetes</td>\n",
       "      <td>Particularly in the crevices of my skin, I hav...</td>\n",
       "    </tr>\n",
       "    <tr>\n",
       "      <th>1197</th>\n",
       "      <td>diabetes</td>\n",
       "      <td>I regularly experience these intense urges and...</td>\n",
       "    </tr>\n",
       "    <tr>\n",
       "      <th>1198</th>\n",
       "      <td>diabetes</td>\n",
       "      <td>I have trouble breathing, especially outside. ...</td>\n",
       "    </tr>\n",
       "    <tr>\n",
       "      <th>1199</th>\n",
       "      <td>diabetes</td>\n",
       "      <td>I constantly sneeze and have a dry cough. My i...</td>\n",
       "    </tr>\n",
       "  </tbody>\n",
       "</table>\n",
       "</div>"
      ],
      "text/plain": [
       "         label                                               text\n",
       "1195  diabetes  I'm shaking and trembling all over. I've lost ...\n",
       "1196  diabetes  Particularly in the crevices of my skin, I hav...\n",
       "1197  diabetes  I regularly experience these intense urges and...\n",
       "1198  diabetes  I have trouble breathing, especially outside. ...\n",
       "1199  diabetes  I constantly sneeze and have a dry cough. My i..."
      ]
     },
     "execution_count": 3,
     "metadata": {},
     "output_type": "execute_result"
    }
   ],
   "source": [
    "Data.tail()"
   ]
  },
  {
   "cell_type": "code",
   "execution_count": 4,
   "id": "c3f36d3c",
   "metadata": {},
   "outputs": [
    {
     "data": {
      "text/plain": [
       "label\n",
       "Psoriasis                          50\n",
       "Varicose Veins                     50\n",
       "peptic ulcer disease               50\n",
       "drug reaction                      50\n",
       "gastroesophageal reflux disease    50\n",
       "allergy                            50\n",
       "urinary tract infection            50\n",
       "Malaria                            50\n",
       "Jaundice                           50\n",
       "Cervical spondylosis               50\n",
       "Migraine                           50\n",
       "Hypertension                       50\n",
       "Bronchial Asthma                   50\n",
       "Acne                               50\n",
       "Arthritis                          50\n",
       "Dimorphic Hemorrhoids              50\n",
       "Pneumonia                          50\n",
       "Common Cold                        50\n",
       "Fungal infection                   50\n",
       "Dengue                             50\n",
       "Impetigo                           50\n",
       "Chicken pox                        50\n",
       "Typhoid                            50\n",
       "diabetes                           50\n",
       "Name: count, dtype: int64"
      ]
     },
     "execution_count": 4,
     "metadata": {},
     "output_type": "execute_result"
    }
   ],
   "source": [
    "Data['label'].value_counts()"
   ]
  },
  {
   "cell_type": "code",
   "execution_count": 5,
   "id": "c52a20ee",
   "metadata": {},
   "outputs": [],
   "source": [
    "Data['text'] = Data['text'].apply(lambda x: x.lower() if pd.notna(x) else \"\")"
   ]
  },
  {
   "cell_type": "code",
   "execution_count": 6,
   "id": "9cdfa6eb",
   "metadata": {},
   "outputs": [],
   "source": [
    "from sklearn.preprocessing import LabelEncoder\n",
    "\n",
    "label_encoder = LabelEncoder()\n",
    "Data['label'] = label_encoder.fit_transform(Data['label'])"
   ]
  },
  {
   "cell_type": "code",
   "execution_count": 7,
   "id": "e8c1aec5",
   "metadata": {},
   "outputs": [],
   "source": [
    "num_classes = len(label_encoder.classes_) "
   ]
  },
  {
   "cell_type": "code",
   "execution_count": 8,
   "id": "7cc5b936",
   "metadata": {},
   "outputs": [],
   "source": [
    "x = Data['text']\n",
    "y = Data['label']"
   ]
  },
  {
   "cell_type": "code",
   "execution_count": 9,
   "id": "4ac194d4",
   "metadata": {},
   "outputs": [],
   "source": [
    "from tensorflow.keras.utils import to_categorical\n",
    "\n",
    "y = to_categorical(y, num_classes=num_classes)"
   ]
  },
  {
   "cell_type": "code",
   "execution_count": 10,
   "id": "ca326c5f",
   "metadata": {},
   "outputs": [],
   "source": [
    "from sklearn.model_selection import train_test_split\n",
    "\n",
    "x_train, x_test, y_train, y_test = train_test_split(x, y, test_size=0.2, random_state=42)"
   ]
  },
  {
   "cell_type": "code",
   "execution_count": 11,
   "id": "c0d8c601",
   "metadata": {},
   "outputs": [],
   "source": [
    "max_words = 10000  \n",
    "max_sequence_length = 100"
   ]
  },
  {
   "cell_type": "code",
   "execution_count": 12,
   "id": "01dccb8a",
   "metadata": {},
   "outputs": [],
   "source": [
    "from tensorflow.keras.preprocessing.text import Tokenizer\n",
    "\n",
    "tokenizer = Tokenizer(num_words=max_words)\n",
    "tokenizer.fit_on_texts(x_train)"
   ]
  },
  {
   "cell_type": "code",
   "execution_count": 13,
   "id": "ae9b3287",
   "metadata": {},
   "outputs": [],
   "source": [
    "x_train_sequences = tokenizer.texts_to_sequences(x_train)\n",
    "x_test_sequences = tokenizer.texts_to_sequences(x_test)"
   ]
  },
  {
   "cell_type": "code",
   "execution_count": 14,
   "id": "bdcf5ee4",
   "metadata": {},
   "outputs": [],
   "source": [
    "from tensorflow.keras.preprocessing.sequence import pad_sequences\n",
    "\n",
    "x_train_padded = pad_sequences(x_train_sequences, maxlen=max_sequence_length)\n",
    "x_test_padded = pad_sequences(x_test_sequences, maxlen=max_sequence_length)"
   ]
  },
  {
   "cell_type": "code",
   "execution_count": 15,
   "id": "30f92539",
   "metadata": {},
   "outputs": [],
   "source": [
    "embedding_dim = 100  \n",
    "RNN_units = 128"
   ]
  },
  {
   "cell_type": "code",
   "execution_count": 16,
   "id": "0677be3c",
   "metadata": {},
   "outputs": [],
   "source": [
    "from tensorflow.keras.models import Sequential\n",
    "from tensorflow.keras.layers import Embedding\n",
    "from tensorflow.keras.layers import Bidirectional\n",
    "from tensorflow.keras.layers import GRU\n",
    "from tensorflow.keras.layers import Dense"
   ]
  },
  {
   "cell_type": "code",
   "execution_count": 17,
   "id": "95b60d13",
   "metadata": {},
   "outputs": [],
   "source": [
    "model = Sequential()\n",
    "model.add(Embedding(input_dim=max_words, output_dim=embedding_dim, input_length=max_sequence_length))\n",
    "model.add(Bidirectional(GRU(units=RNN_units, dropout=0.2, recurrent_dropout=0.2)))\n",
    "model.add(Dense(units=num_classes, activation='softmax'))"
   ]
  },
  {
   "cell_type": "code",
   "execution_count": 18,
   "id": "d1fc08c3",
   "metadata": {},
   "outputs": [],
   "source": [
    "model.compile(loss='categorical_crossentropy', optimizer='adam', metrics=['accuracy'])"
   ]
  },
  {
   "cell_type": "code",
   "execution_count": 19,
   "id": "c37c68ca",
   "metadata": {},
   "outputs": [],
   "source": [
    "from tensorflow.keras.callbacks import ModelCheckpoint\n",
    "\n",
    "model_checkpoint = ModelCheckpoint('DISEASE1.h5', \n",
    "                                   monitor='accuracy', \n",
    "                                   save_best_only=True, \n",
    "                                   verbose=1,\n",
    "                                   mode='max')"
   ]
  },
  {
   "cell_type": "code",
   "execution_count": 20,
   "id": "60e08602",
   "metadata": {},
   "outputs": [],
   "source": [
    "epochs = 10\n",
    "batch_size = 32"
   ]
  },
  {
   "cell_type": "code",
   "execution_count": 21,
   "id": "6f803697",
   "metadata": {},
   "outputs": [
    {
     "name": "stdout",
     "output_type": "stream",
     "text": [
      "Epoch 1/10\n",
      "27/27 [==============================] - ETA: 0s - loss: 3.1678 - accuracy: 0.0845\n",
      "Epoch 1: accuracy improved from -inf to 0.08449, saving model to DISEASE1.h5\n",
      "27/27 [==============================] - 9s 220ms/step - loss: 3.1678 - accuracy: 0.0845 - val_loss: 3.1473 - val_accuracy: 0.2396\n",
      "Epoch 2/10\n",
      "27/27 [==============================] - ETA: 0s - loss: 3.0033 - accuracy: 0.3229\n",
      "Epoch 2: accuracy improved from 0.08449 to 0.32292, saving model to DISEASE1.h5\n",
      "27/27 [==============================] - 5s 174ms/step - loss: 3.0033 - accuracy: 0.3229 - val_loss: 2.8201 - val_accuracy: 0.2083\n",
      "Epoch 3/10\n",
      "27/27 [==============================] - ETA: 0s - loss: 2.4835 - accuracy: 0.3681\n",
      "Epoch 3: accuracy improved from 0.32292 to 0.36806, saving model to DISEASE1.h5\n",
      "27/27 [==============================] - 5s 175ms/step - loss: 2.4835 - accuracy: 0.3681 - val_loss: 2.3074 - val_accuracy: 0.3229\n",
      "Epoch 4/10\n",
      "27/27 [==============================] - ETA: 0s - loss: 1.8914 - accuracy: 0.4873\n",
      "Epoch 4: accuracy improved from 0.36806 to 0.48727, saving model to DISEASE1.h5\n",
      "27/27 [==============================] - 5s 189ms/step - loss: 1.8914 - accuracy: 0.4873 - val_loss: 1.7175 - val_accuracy: 0.4688\n",
      "Epoch 5/10\n",
      "27/27 [==============================] - ETA: 0s - loss: 1.3818 - accuracy: 0.6493\n",
      "Epoch 5: accuracy improved from 0.48727 to 0.64931, saving model to DISEASE1.h5\n",
      "27/27 [==============================] - 5s 195ms/step - loss: 1.3818 - accuracy: 0.6493 - val_loss: 1.4341 - val_accuracy: 0.5000\n",
      "Epoch 6/10\n",
      "27/27 [==============================] - ETA: 0s - loss: 1.0464 - accuracy: 0.7604\n",
      "Epoch 6: accuracy improved from 0.64931 to 0.76042, saving model to DISEASE1.h5\n",
      "27/27 [==============================] - 5s 192ms/step - loss: 1.0464 - accuracy: 0.7604 - val_loss: 1.2590 - val_accuracy: 0.5625\n",
      "Epoch 7/10\n",
      "27/27 [==============================] - ETA: 0s - loss: 0.7952 - accuracy: 0.8287\n",
      "Epoch 7: accuracy improved from 0.76042 to 0.82870, saving model to DISEASE1.h5\n",
      "27/27 [==============================] - 5s 184ms/step - loss: 0.7952 - accuracy: 0.8287 - val_loss: 1.1256 - val_accuracy: 0.6458\n",
      "Epoch 8/10\n",
      "27/27 [==============================] - ETA: 0s - loss: 0.5827 - accuracy: 0.8958\n",
      "Epoch 8: accuracy improved from 0.82870 to 0.89583, saving model to DISEASE1.h5\n",
      "27/27 [==============================] - 5s 182ms/step - loss: 0.5827 - accuracy: 0.8958 - val_loss: 1.1034 - val_accuracy: 0.6667\n",
      "Epoch 9/10\n",
      "27/27 [==============================] - ETA: 0s - loss: 0.4400 - accuracy: 0.9259\n",
      "Epoch 9: accuracy improved from 0.89583 to 0.92593, saving model to DISEASE1.h5\n",
      "27/27 [==============================] - 5s 182ms/step - loss: 0.4400 - accuracy: 0.9259 - val_loss: 0.9329 - val_accuracy: 0.7188\n",
      "Epoch 10/10\n",
      "27/27 [==============================] - ETA: 0s - loss: 0.3295 - accuracy: 0.9560\n",
      "Epoch 10: accuracy improved from 0.92593 to 0.95602, saving model to DISEASE1.h5\n",
      "27/27 [==============================] - 5s 174ms/step - loss: 0.3295 - accuracy: 0.9560 - val_loss: 0.8447 - val_accuracy: 0.7396\n"
     ]
    },
    {
     "data": {
      "text/plain": [
       "<keras.callbacks.History at 0x2af7e0359d0>"
      ]
     },
     "execution_count": 21,
     "metadata": {},
     "output_type": "execute_result"
    }
   ],
   "source": [
    "model.fit(x_train_padded, y_train, epochs=epochs, batch_size=batch_size, validation_split=0.1,callbacks=[model_checkpoint])"
   ]
  },
  {
   "cell_type": "code",
   "execution_count": 22,
   "id": "b5a5293b",
   "metadata": {},
   "outputs": [
    {
     "name": "stdout",
     "output_type": "stream",
     "text": [
      "8/8 [==============================] - 1s 19ms/step\n"
     ]
    }
   ],
   "source": [
    "y_pred = model.predict(x_test_padded)\n",
    "y_pred_classes = np.argmax(y_pred, axis=1)\n",
    "y_true_classes = np.argmax(y_test, axis=1)"
   ]
  },
  {
   "cell_type": "code",
   "execution_count": 23,
   "id": "7afd0f03",
   "metadata": {},
   "outputs": [
    {
     "name": "stdout",
     "output_type": "stream",
     "text": [
      "THE ACCURACY SCORE OF GRATED RECURREND UNIT ARCHITECTURE IS : 78.33333333333333\n"
     ]
    }
   ],
   "source": [
    "from sklearn.metrics import accuracy_score\n",
    "\n",
    "AC = accuracy_score(y_pred_classes,y_true_classes)\n",
    "\n",
    "print(\"THE ACCURACY SCORE OF GRATED RECURREND UNIT ARCHITECTURE IS :\",AC*100)"
   ]
  },
  {
   "cell_type": "code",
   "execution_count": 24,
   "id": "ea2ef045",
   "metadata": {},
   "outputs": [
    {
     "name": "stdout",
     "output_type": "stream",
     "text": [
      "THE HAMMING LOSS OF GRATED RECURREND UNIT ARCHITECTURE IS : 21.666666666666668\n"
     ]
    }
   ],
   "source": [
    "from sklearn.metrics import hamming_loss\n",
    "\n",
    "HL = hamming_loss(y_pred_classes,y_true_classes)\n",
    "\n",
    "print(\"THE HAMMING LOSS OF GRATED RECURREND UNIT ARCHITECTURE IS :\",HL*100)"
   ]
  },
  {
   "cell_type": "code",
   "execution_count": 25,
   "id": "5c2490d3",
   "metadata": {},
   "outputs": [
    {
     "name": "stdout",
     "output_type": "stream",
     "text": [
      "THE PRECISION SCORE OF GRATED RECURREND UNIT ARCHITECTURE:\n",
      "\n",
      "\n",
      "               precision    recall  f1-score   support\n",
      "\n",
      "           0       1.00      1.00      1.00         7\n",
      "           1       1.00      1.00      1.00        10\n",
      "           2       1.00      0.79      0.88        14\n",
      "           3       0.86      1.00      0.92         6\n",
      "           4       0.33      0.36      0.35        11\n",
      "           5       0.58      1.00      0.74         7\n",
      "           6       0.25      0.50      0.33         6\n",
      "           7       1.00      0.88      0.93         8\n",
      "           8       1.00      1.00      1.00        13\n",
      "           9       0.90      0.75      0.82        12\n",
      "          10       0.73      0.50      0.59        16\n",
      "          11       1.00      1.00      1.00        11\n",
      "          12       1.00      1.00      1.00        11\n",
      "          13       0.80      0.89      0.84         9\n",
      "          14       0.91      1.00      0.95        10\n",
      "          15       0.83      0.56      0.67         9\n",
      "          16       0.89      0.67      0.76        12\n",
      "          17       0.83      0.77      0.80        13\n",
      "          18       0.58      0.58      0.58        12\n",
      "          19       0.75      0.55      0.63        11\n",
      "          20       0.60      0.75      0.67         4\n",
      "          21       0.82      1.00      0.90         9\n",
      "          22       0.64      0.78      0.70         9\n",
      "          23       0.73      0.80      0.76        10\n",
      "\n",
      "    accuracy                           0.78       240\n",
      "   macro avg       0.79      0.80      0.78       240\n",
      "weighted avg       0.81      0.78      0.79       240\n",
      "\n"
     ]
    }
   ],
   "source": [
    "from sklearn.metrics import classification_report\n",
    "\n",
    "CR = classification_report(y_pred_classes,y_true_classes)\n",
    "\n",
    "print('THE PRECISION SCORE OF GRATED RECURREND UNIT ARCHITECTURE:\\n\\n\\n',CR)"
   ]
  },
  {
   "cell_type": "code",
   "execution_count": 26,
   "id": "092eabd8",
   "metadata": {},
   "outputs": [
    {
     "name": "stdout",
     "output_type": "stream",
     "text": [
      "THE CONFUSION MATRIX SCORE OF GRATED RECURREND UNIT ARCHITECTURE:\n",
      "\n",
      "\n",
      " [[ 7  0  0  0  0  0  0  0  0  0  0  0  0  0  0  0  0  0  0  0  0  0  0  0]\n",
      " [ 0 10  0  0  0  0  0  0  0  0  0  0  0  0  0  0  0  0  0  0  0  0  0  0]\n",
      " [ 0  0 11  0  0  2  0  0  0  0  0  0  0  0  1  0  0  0  0  0  0  0  0  0]\n",
      " [ 0  0  0  6  0  0  0  0  0  0  0  0  0  0  0  0  0  0  0  0  0  0  0  0]\n",
      " [ 0  0  0  0  4  0  6  0  0  0  1  0  0  0  0  0  0  0  0  0  0  0  0  0]\n",
      " [ 0  0  0  0  0  7  0  0  0  0  0  0  0  0  0  0  0  0  0  0  0  0  0  0]\n",
      " [ 0  0  0  0  2  0  3  0  0  0  0  0  0  0  0  0  0  0  1  0  0  0  0  0]\n",
      " [ 0  0  0  0  0  1  0  7  0  0  0  0  0  0  0  0  0  0  0  0  0  0  0  0]\n",
      " [ 0  0  0  0  0  0  0  0 13  0  0  0  0  0  0  0  0  0  0  0  0  0  0  0]\n",
      " [ 0  0  0  0  0  0  0  0  0  9  0  0  0  1  0  0  0  0  0  0  0  0  0  2]\n",
      " [ 0  0  0  0  3  2  1  0  0  0  8  0  0  0  0  0  0  1  1  0  0  0  0  0]\n",
      " [ 0  0  0  0  0  0  0  0  0  0  0 11  0  0  0  0  0  0  0  0  0  0  0  0]\n",
      " [ 0  0  0  0  0  0  0  0  0  0  0  0 11  0  0  0  0  0  0  0  0  0  0  0]\n",
      " [ 0  0  0  1  0  0  0  0  0  0  0  0  0  8  0  0  0  0  0  0  0  0  0  0]\n",
      " [ 0  0  0  0  0  0  0  0  0  0  0  0  0  0 10  0  0  0  0  0  0  0  0  0]\n",
      " [ 0  0  0  0  1  0  0  0  0  0  1  0  0  1  0  5  0  1  0  0  0  0  0  0]\n",
      " [ 0  0  0  0  1  0  2  0  0  1  0  0  0  0  0  0  8  0  0  0  0  0  0  0]\n",
      " [ 0  0  0  0  0  0  0  0  0  0  0  0  0  0  0  1  0 10  0  2  0  0  0  0]\n",
      " [ 0  0  0  0  0  0  0  0  0  0  0  0  0  0  0  0  0  0  7  0  2  0  3  0]\n",
      " [ 0  0  0  0  0  0  0  0  0  0  0  0  0  0  0  0  0  0  3  6  0  0  1  1]\n",
      " [ 0  0  0  0  1  0  0  0  0  0  0  0  0  0  0  0  0  0  0  0  3  0  0  0]\n",
      " [ 0  0  0  0  0  0  0  0  0  0  0  0  0  0  0  0  0  0  0  0  0  9  0  0]\n",
      " [ 0  0  0  0  0  0  0  0  0  0  0  0  0  0  0  0  0  0  0  0  0  2  7  0]\n",
      " [ 0  0  0  0  0  0  0  0  0  0  1  0  0  0  0  0  1  0  0  0  0  0  0  8]]\n"
     ]
    }
   ],
   "source": [
    "from sklearn.metrics import confusion_matrix\n",
    "\n",
    "CM = confusion_matrix(y_pred_classes,y_true_classes)\n",
    "\n",
    "print('THE CONFUSION MATRIX SCORE OF GRATED RECURREND UNIT ARCHITECTURE:\\n\\n\\n',CM)"
   ]
  },
  {
   "cell_type": "code",
   "execution_count": 27,
   "id": "28378a3d",
   "metadata": {},
   "outputs": [
    {
     "data": {
      "image/png": "[encoded data removed]",
      "text/plain": [
       "<Figure size 640x480 with 2 Axes>"
      ]
     },
     "metadata": {},
     "output_type": "display_data"
    }
   ],
   "source": [
    "import numpy as np\n",
    "import matplotlib.pyplot as plt\n",
    "from sklearn.metrics import confusion_matrix, ConfusionMatrixDisplay\n",
    "\n",
    "cm = confusion_matrix(y_true_classes, y_pred_classes)\n",
    "\n",
    "classes = np.arange(cm.shape[0])\n",
    "disp = ConfusionMatrixDisplay(confusion_matrix=cm, display_labels=classes)\n",
    "disp.plot(cmap='viridis', values_format='d')\n",
    "\n",
    "plt.title('DISPLAY CONFUSION MATRIX OF GRATED RECURREND UNIT ARCHITECTURE\\n\\n')\n",
    "plt.xlabel('Predicted Label')\n",
    "plt.ylabel('True Label')\n",
    "plt.show()\n"
   ]
  },
  {
   "cell_type": "code",
   "execution_count": 28,
   "id": "f3a970f4",
   "metadata": {},
   "outputs": [
    {
     "data": {
      "image/png": "[encoded data removed]",
      "text/plain": [
       "<Figure size 500x500 with 1 Axes>"
      ]
     },
     "metadata": {},
     "output_type": "display_data"
    }
   ],
   "source": [
    "def graph():\n",
    "    import matplotlib.pyplot as plt\n",
    "    data=[AC]\n",
    "    alg=\"GRATED RECURREND UNIT ARCHITECTURE\"\n",
    "    plt.figure(figsize=(5,5))\n",
    "    b=plt.bar(alg,data,color=(\"RED\"))\n",
    "    plt.title(\"THE ACCURACY SCORE OF GRATED RECURREND UNIT ARCHITECTURE IS\\n\\n\\n\")\n",
    "    plt.legend(b,data,fontsize=9)\n",
    "graph()"
   ]
  },
  {
   "cell_type": "code",
   "execution_count": null,
   "id": "13ce03c8",
   "metadata": {},
   "outputs": [],
   "source": []
  }
 ],
 "metadata": {
  "kernelspec": {
   "display_name": "Python 3 (ipykernel)",
   "language": "python",
   "name": "python3"
  },
  "language_info": {
   "codemirror_mode": {
    "name": "ipython",
    "version": 3
   },
   "file_extension": ".py",
   "mimetype": "text/x-python",
   "name": "python",
   "nbconvert_exporter": "python",
   "pygments_lexer": "ipython3",
   "version": "3.11.5"
  }
 },
 "nbformat": 4,
 "nbformat_minor": 5
}
