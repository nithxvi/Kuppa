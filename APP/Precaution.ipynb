{
 "cells": [
  {
   "cell_type": "code",
   "execution_count": 23,
   "metadata": {},
   "outputs": [],
   "source": [
    "import pandas as pd\n",
    "import numpy as np"
   ]
  },
  {
   "cell_type": "code",
   "execution_count": 24,
   "metadata": {},
   "outputs": [
    {
     "data": {
      "text/html": [
       "<div>\n",
       "<style scoped>\n",
       "    .dataframe tbody tr th:only-of-type {\n",
       "        vertical-align: middle;\n",
       "    }\n",
       "\n",
       "    .dataframe tbody tr th {\n",
       "        vertical-align: top;\n",
       "    }\n",
       "\n",
       "    .dataframe thead th {\n",
       "        text-align: right;\n",
       "    }\n",
       "</style>\n",
       "<table border=\"1\" class=\"dataframe\">\n",
       "  <thead>\n",
       "    <tr style=\"text-align: right;\">\n",
       "      <th></th>\n",
       "      <th>Disease</th>\n",
       "      <th>Precaution_1</th>\n",
       "      <th>Precaution_2</th>\n",
       "      <th>Precaution_3</th>\n",
       "      <th>Precaution_4</th>\n",
       "    </tr>\n",
       "  </thead>\n",
       "  <tbody>\n",
       "    <tr>\n",
       "      <th>36</th>\n",
       "      <td>Heart attack</td>\n",
       "      <td>call ambulance</td>\n",
       "      <td>chew or swallow asprin</td>\n",
       "      <td>keep calm</td>\n",
       "      <td></td>\n",
       "    </tr>\n",
       "    <tr>\n",
       "      <th>37</th>\n",
       "      <td>Pneumonia</td>\n",
       "      <td>consult doctor</td>\n",
       "      <td>medication</td>\n",
       "      <td>rest</td>\n",
       "      <td>follow up</td>\n",
       "    </tr>\n",
       "    <tr>\n",
       "      <th>38</th>\n",
       "      <td>Arthritis</td>\n",
       "      <td>exercise</td>\n",
       "      <td>use hot and cold therapy</td>\n",
       "      <td>try acupuncture</td>\n",
       "      <td>massage</td>\n",
       "    </tr>\n",
       "    <tr>\n",
       "      <th>39</th>\n",
       "      <td>Gastroenteritis</td>\n",
       "      <td>stop eating solid food for while</td>\n",
       "      <td>try taking small sips of water</td>\n",
       "      <td>rest</td>\n",
       "      <td>ease back into eating</td>\n",
       "    </tr>\n",
       "    <tr>\n",
       "      <th>40</th>\n",
       "      <td>Tuberculosis</td>\n",
       "      <td>cover mouth</td>\n",
       "      <td>consult doctor</td>\n",
       "      <td>medication</td>\n",
       "      <td>rest</td>\n",
       "    </tr>\n",
       "  </tbody>\n",
       "</table>\n",
       "</div>"
      ],
      "text/plain": [
       "            Disease                      Precaution_1  \\\n",
       "36     Heart attack                    call ambulance   \n",
       "37        Pneumonia                    consult doctor   \n",
       "38        Arthritis                          exercise   \n",
       "39  Gastroenteritis  stop eating solid food for while   \n",
       "40     Tuberculosis                       cover mouth   \n",
       "\n",
       "                      Precaution_2     Precaution_3           Precaution_4  \n",
       "36          chew or swallow asprin        keep calm                         \n",
       "37                      medication             rest              follow up  \n",
       "38        use hot and cold therapy  try acupuncture                massage  \n",
       "39  try taking small sips of water             rest  ease back into eating  \n",
       "40                  consult doctor       medication                   rest  "
      ]
     },
     "execution_count": 24,
     "metadata": {},
     "output_type": "execute_result"
    }
   ],
   "source": [
    "df_prec=pd.read_csv('symptom_precaution.csv')\n",
    "df_prec.fillna(\"\",inplace=True)\n",
    "df_prec.tail()"
   ]
  },
  {
   "cell_type": "code",
   "execution_count": 25,
   "metadata": {},
   "outputs": [],
   "source": [
    "output_label='Heart attack'\n",
    "\n",
    "res_precaution=df_prec.loc[df_prec['Disease']==output_label]"
   ]
  },
  {
   "cell_type": "code",
   "execution_count": 26,
   "metadata": {},
   "outputs": [
    {
     "name": "stdout",
     "output_type": "stream",
     "text": [
      "      Precaution_1            Precaution_2 Precaution_3 Precaution_4\n",
      "36  call ambulance  chew or swallow asprin    keep calm             \n"
     ]
    }
   ],
   "source": [
    "precautions = res_precaution[['Precaution_1', 'Precaution_2', 'Precaution_3', 'Precaution_4']]\n",
    "print(precautions)"
   ]
  },
  {
   "cell_type": "code",
   "execution_count": 43,
   "metadata": {},
   "outputs": [
    {
     "name": "stdout",
     "output_type": "stream",
     "text": [
      "['call ambulance', 'chew or swallow asprin', 'keep calm', '']\n"
     ]
    }
   ],
   "source": [
    "\n",
    "disease_list=precautions.values.tolist()\n",
    "disease_list_str = list(map(str, disease_list))\n",
    "disease_precaution=','.join(disease_list_str)\n",
    "\n",
    "print(disease_precaution)\n"
   ]
  }
 ],
 "metadata": {
  "kernelspec": {
   "display_name": "Python 3",
   "language": "python",
   "name": "python3"
  },
  "language_info": {
   "codemirror_mode": {
    "name": "ipython",
    "version": 3
   },
   "file_extension": ".py",
   "mimetype": "text/x-python",
   "name": "python",
   "nbconvert_exporter": "python",
   "pygments_lexer": "ipython3",
   "version": "3.11.5"
  }
 },
 "nbformat": 4,
 "nbformat_minor": 2
}
