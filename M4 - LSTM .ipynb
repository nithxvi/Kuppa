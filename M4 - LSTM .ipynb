{
 "cells": [
  {
   "cell_type": "markdown",
   "id": "58a7dc8d",
   "metadata": {},
   "source": [
    "### LSTM ARCHITECTURE"
   ]
  },
  {
   "cell_type": "code",
   "execution_count": 1,
   "id": "f40f6596",
   "metadata": {},
   "outputs": [],
   "source": [
    "import pandas as pd\n",
    "import numpy as np"
   ]
  },
  {
   "cell_type": "code",
   "execution_count": 2,
   "id": "62beca64",
   "metadata": {},
   "outputs": [
    {
     "data": {
      "text/html": [
       "<div>\n",
       "<style scoped>\n",
       "    .dataframe tbody tr th:only-of-type {\n",
       "        vertical-align: middle;\n",
       "    }\n",
       "\n",
       "    .dataframe tbody tr th {\n",
       "        vertical-align: top;\n",
       "    }\n",
       "\n",
       "    .dataframe thead th {\n",
       "        text-align: right;\n",
       "    }\n",
       "</style>\n",
       "<table border=\"1\" class=\"dataframe\">\n",
       "  <thead>\n",
       "    <tr style=\"text-align: right;\">\n",
       "      <th></th>\n",
       "      <th>Disease</th>\n",
       "      <th>Symptom_1</th>\n",
       "      <th>Symptom_2</th>\n",
       "      <th>Symptom_3</th>\n",
       "      <th>Symptom_4</th>\n",
       "      <th>Symptom_5</th>\n",
       "      <th>Symptom_6</th>\n",
       "      <th>Symptom_7</th>\n",
       "      <th>Symptom_8</th>\n",
       "      <th>Symptom_9</th>\n",
       "      <th>Symptom_10</th>\n",
       "      <th>Symptom_11</th>\n",
       "      <th>Symptom_12</th>\n",
       "      <th>Symptom_13</th>\n",
       "      <th>Symptom_14</th>\n",
       "      <th>Symptom_15</th>\n",
       "      <th>Symptom_16</th>\n",
       "      <th>Symptom_17</th>\n",
       "    </tr>\n",
       "  </thead>\n",
       "  <tbody>\n",
       "    <tr>\n",
       "      <th>0</th>\n",
       "      <td>Fungal infection</td>\n",
       "      <td>itching</td>\n",
       "      <td>skin_rash</td>\n",
       "      <td>nodal_skin_eruptions</td>\n",
       "      <td>dischromic _patches</td>\n",
       "      <td></td>\n",
       "      <td></td>\n",
       "      <td></td>\n",
       "      <td></td>\n",
       "      <td></td>\n",
       "      <td></td>\n",
       "      <td></td>\n",
       "      <td></td>\n",
       "      <td></td>\n",
       "      <td></td>\n",
       "      <td></td>\n",
       "      <td></td>\n",
       "      <td></td>\n",
       "    </tr>\n",
       "    <tr>\n",
       "      <th>1</th>\n",
       "      <td>Fungal infection</td>\n",
       "      <td>skin_rash</td>\n",
       "      <td>nodal_skin_eruptions</td>\n",
       "      <td>dischromic _patches</td>\n",
       "      <td></td>\n",
       "      <td></td>\n",
       "      <td></td>\n",
       "      <td></td>\n",
       "      <td></td>\n",
       "      <td></td>\n",
       "      <td></td>\n",
       "      <td></td>\n",
       "      <td></td>\n",
       "      <td></td>\n",
       "      <td></td>\n",
       "      <td></td>\n",
       "      <td></td>\n",
       "      <td></td>\n",
       "    </tr>\n",
       "    <tr>\n",
       "      <th>2</th>\n",
       "      <td>Fungal infection</td>\n",
       "      <td>itching</td>\n",
       "      <td>nodal_skin_eruptions</td>\n",
       "      <td>dischromic _patches</td>\n",
       "      <td></td>\n",
       "      <td></td>\n",
       "      <td></td>\n",
       "      <td></td>\n",
       "      <td></td>\n",
       "      <td></td>\n",
       "      <td></td>\n",
       "      <td></td>\n",
       "      <td></td>\n",
       "      <td></td>\n",
       "      <td></td>\n",
       "      <td></td>\n",
       "      <td></td>\n",
       "      <td></td>\n",
       "    </tr>\n",
       "    <tr>\n",
       "      <th>3</th>\n",
       "      <td>Fungal infection</td>\n",
       "      <td>itching</td>\n",
       "      <td>skin_rash</td>\n",
       "      <td>dischromic _patches</td>\n",
       "      <td></td>\n",
       "      <td></td>\n",
       "      <td></td>\n",
       "      <td></td>\n",
       "      <td></td>\n",
       "      <td></td>\n",
       "      <td></td>\n",
       "      <td></td>\n",
       "      <td></td>\n",
       "      <td></td>\n",
       "      <td></td>\n",
       "      <td></td>\n",
       "      <td></td>\n",
       "      <td></td>\n",
       "    </tr>\n",
       "    <tr>\n",
       "      <th>4</th>\n",
       "      <td>Fungal infection</td>\n",
       "      <td>itching</td>\n",
       "      <td>skin_rash</td>\n",
       "      <td>nodal_skin_eruptions</td>\n",
       "      <td></td>\n",
       "      <td></td>\n",
       "      <td></td>\n",
       "      <td></td>\n",
       "      <td></td>\n",
       "      <td></td>\n",
       "      <td></td>\n",
       "      <td></td>\n",
       "      <td></td>\n",
       "      <td></td>\n",
       "      <td></td>\n",
       "      <td></td>\n",
       "      <td></td>\n",
       "      <td></td>\n",
       "    </tr>\n",
       "  </tbody>\n",
       "</table>\n",
       "</div>"
      ],
      "text/plain": [
       "            Disease   Symptom_1              Symptom_2              Symptom_3  \\\n",
       "0  Fungal infection     itching              skin_rash   nodal_skin_eruptions   \n",
       "1  Fungal infection   skin_rash   nodal_skin_eruptions    dischromic _patches   \n",
       "2  Fungal infection     itching   nodal_skin_eruptions    dischromic _patches   \n",
       "3  Fungal infection     itching              skin_rash    dischromic _patches   \n",
       "4  Fungal infection     itching              skin_rash   nodal_skin_eruptions   \n",
       "\n",
       "              Symptom_4 Symptom_5 Symptom_6 Symptom_7 Symptom_8 Symptom_9  \\\n",
       "0   dischromic _patches                                                     \n",
       "1                                                                           \n",
       "2                                                                           \n",
       "3                                                                           \n",
       "4                                                                           \n",
       "\n",
       "  Symptom_10 Symptom_11 Symptom_12 Symptom_13 Symptom_14 Symptom_15  \\\n",
       "0                                                                     \n",
       "1                                                                     \n",
       "2                                                                     \n",
       "3                                                                     \n",
       "4                                                                     \n",
       "\n",
       "  Symptom_16 Symptom_17  \n",
       "0                        \n",
       "1                        \n",
       "2                        \n",
       "3                        \n",
       "4                        "
      ]
     },
     "execution_count": 2,
     "metadata": {},
     "output_type": "execute_result"
    }
   ],
   "source": [
    "Data = pd.read_csv('dataset.csv')\n",
    "Data.fillna(\"\",inplace=True)\n",
    "Data.head()"
   ]
  },
  {
   "cell_type": "code",
   "execution_count": 3,
   "id": "43b4bf60",
   "metadata": {},
   "outputs": [
    {
     "data": {
      "text/html": [
       "<div>\n",
       "<style scoped>\n",
       "    .dataframe tbody tr th:only-of-type {\n",
       "        vertical-align: middle;\n",
       "    }\n",
       "\n",
       "    .dataframe tbody tr th {\n",
       "        vertical-align: top;\n",
       "    }\n",
       "\n",
       "    .dataframe thead th {\n",
       "        text-align: right;\n",
       "    }\n",
       "</style>\n",
       "<table border=\"1\" class=\"dataframe\">\n",
       "  <thead>\n",
       "    <tr style=\"text-align: right;\">\n",
       "      <th></th>\n",
       "      <th>Disease</th>\n",
       "      <th>Symptom_1</th>\n",
       "      <th>Symptom_2</th>\n",
       "      <th>Symptom_3</th>\n",
       "      <th>Symptom_4</th>\n",
       "      <th>Symptom_5</th>\n",
       "      <th>Symptom_6</th>\n",
       "      <th>Symptom_7</th>\n",
       "      <th>Symptom_8</th>\n",
       "      <th>Symptom_9</th>\n",
       "      <th>Symptom_10</th>\n",
       "      <th>Symptom_11</th>\n",
       "      <th>Symptom_12</th>\n",
       "      <th>Symptom_13</th>\n",
       "      <th>Symptom_14</th>\n",
       "      <th>Symptom_15</th>\n",
       "      <th>Symptom_16</th>\n",
       "      <th>Symptom_17</th>\n",
       "    </tr>\n",
       "  </thead>\n",
       "  <tbody>\n",
       "    <tr>\n",
       "      <th>4915</th>\n",
       "      <td>(vertigo) Paroymsal  Positional Vertigo</td>\n",
       "      <td>vomiting</td>\n",
       "      <td>headache</td>\n",
       "      <td>nausea</td>\n",
       "      <td>spinning_movements</td>\n",
       "      <td>loss_of_balance</td>\n",
       "      <td>unsteadiness</td>\n",
       "      <td></td>\n",
       "      <td></td>\n",
       "      <td></td>\n",
       "      <td></td>\n",
       "      <td></td>\n",
       "      <td></td>\n",
       "      <td></td>\n",
       "      <td></td>\n",
       "      <td></td>\n",
       "      <td></td>\n",
       "      <td></td>\n",
       "    </tr>\n",
       "    <tr>\n",
       "      <th>4916</th>\n",
       "      <td>Acne</td>\n",
       "      <td>skin_rash</td>\n",
       "      <td>pus_filled_pimples</td>\n",
       "      <td>blackheads</td>\n",
       "      <td>scurring</td>\n",
       "      <td></td>\n",
       "      <td></td>\n",
       "      <td></td>\n",
       "      <td></td>\n",
       "      <td></td>\n",
       "      <td></td>\n",
       "      <td></td>\n",
       "      <td></td>\n",
       "      <td></td>\n",
       "      <td></td>\n",
       "      <td></td>\n",
       "      <td></td>\n",
       "      <td></td>\n",
       "    </tr>\n",
       "    <tr>\n",
       "      <th>4917</th>\n",
       "      <td>Urinary tract infection</td>\n",
       "      <td>burning_micturition</td>\n",
       "      <td>bladder_discomfort</td>\n",
       "      <td>foul_smell_of urine</td>\n",
       "      <td>continuous_feel_of_urine</td>\n",
       "      <td></td>\n",
       "      <td></td>\n",
       "      <td></td>\n",
       "      <td></td>\n",
       "      <td></td>\n",
       "      <td></td>\n",
       "      <td></td>\n",
       "      <td></td>\n",
       "      <td></td>\n",
       "      <td></td>\n",
       "      <td></td>\n",
       "      <td></td>\n",
       "      <td></td>\n",
       "    </tr>\n",
       "    <tr>\n",
       "      <th>4918</th>\n",
       "      <td>Psoriasis</td>\n",
       "      <td>skin_rash</td>\n",
       "      <td>joint_pain</td>\n",
       "      <td>skin_peeling</td>\n",
       "      <td>silver_like_dusting</td>\n",
       "      <td>small_dents_in_nails</td>\n",
       "      <td>inflammatory_nails</td>\n",
       "      <td></td>\n",
       "      <td></td>\n",
       "      <td></td>\n",
       "      <td></td>\n",
       "      <td></td>\n",
       "      <td></td>\n",
       "      <td></td>\n",
       "      <td></td>\n",
       "      <td></td>\n",
       "      <td></td>\n",
       "      <td></td>\n",
       "    </tr>\n",
       "    <tr>\n",
       "      <th>4919</th>\n",
       "      <td>Impetigo</td>\n",
       "      <td>skin_rash</td>\n",
       "      <td>high_fever</td>\n",
       "      <td>blister</td>\n",
       "      <td>red_sore_around_nose</td>\n",
       "      <td>yellow_crust_ooze</td>\n",
       "      <td></td>\n",
       "      <td></td>\n",
       "      <td></td>\n",
       "      <td></td>\n",
       "      <td></td>\n",
       "      <td></td>\n",
       "      <td></td>\n",
       "      <td></td>\n",
       "      <td></td>\n",
       "      <td></td>\n",
       "      <td></td>\n",
       "      <td></td>\n",
       "    </tr>\n",
       "  </tbody>\n",
       "</table>\n",
       "</div>"
      ],
      "text/plain": [
       "                                      Disease             Symptom_1  \\\n",
       "4915  (vertigo) Paroymsal  Positional Vertigo              vomiting   \n",
       "4916                                     Acne             skin_rash   \n",
       "4917                  Urinary tract infection   burning_micturition   \n",
       "4918                                Psoriasis             skin_rash   \n",
       "4919                                 Impetigo             skin_rash   \n",
       "\n",
       "                Symptom_2             Symptom_3                  Symptom_4  \\\n",
       "4915             headache                nausea         spinning_movements   \n",
       "4916   pus_filled_pimples            blackheads                   scurring   \n",
       "4917   bladder_discomfort   foul_smell_of urine   continuous_feel_of_urine   \n",
       "4918           joint_pain          skin_peeling        silver_like_dusting   \n",
       "4919           high_fever               blister       red_sore_around_nose   \n",
       "\n",
       "                  Symptom_5            Symptom_6 Symptom_7 Symptom_8  \\\n",
       "4915        loss_of_balance         unsteadiness                       \n",
       "4916                                                                   \n",
       "4917                                                                   \n",
       "4918   small_dents_in_nails   inflammatory_nails                       \n",
       "4919      yellow_crust_ooze                                            \n",
       "\n",
       "     Symptom_9 Symptom_10 Symptom_11 Symptom_12 Symptom_13 Symptom_14  \\\n",
       "4915                                                                    \n",
       "4916                                                                    \n",
       "4917                                                                    \n",
       "4918                                                                    \n",
       "4919                                                                    \n",
       "\n",
       "     Symptom_15 Symptom_16 Symptom_17  \n",
       "4915                                   \n",
       "4916                                   \n",
       "4917                                   \n",
       "4918                                   \n",
       "4919                                   "
      ]
     },
     "execution_count": 3,
     "metadata": {},
     "output_type": "execute_result"
    }
   ],
   "source": [
    "Data.tail()"
   ]
  },
  {
   "cell_type": "code",
   "execution_count": 4,
   "id": "59b21d72",
   "metadata": {},
   "outputs": [
    {
     "data": {
      "text/plain": [
       "Disease\n",
       "Fungal infection                           120\n",
       "Hepatitis C                                120\n",
       "Hepatitis E                                120\n",
       "Alcoholic hepatitis                        120\n",
       "Tuberculosis                               120\n",
       "Common Cold                                120\n",
       "Pneumonia                                  120\n",
       "Dimorphic hemmorhoids(piles)               120\n",
       "Heart attack                               120\n",
       "Varicose veins                             120\n",
       "Hypothyroidism                             120\n",
       "Hyperthyroidism                            120\n",
       "Hypoglycemia                               120\n",
       "Osteoarthristis                            120\n",
       "Arthritis                                  120\n",
       "(vertigo) Paroymsal  Positional Vertigo    120\n",
       "Acne                                       120\n",
       "Urinary tract infection                    120\n",
       "Psoriasis                                  120\n",
       "Hepatitis D                                120\n",
       "Hepatitis B                                120\n",
       "Allergy                                    120\n",
       "hepatitis A                                120\n",
       "GERD                                       120\n",
       "Chronic cholestasis                        120\n",
       "Drug Reaction                              120\n",
       "Peptic ulcer diseae                        120\n",
       "AIDS                                       120\n",
       "Diabetes                                   120\n",
       "Gastroenteritis                            120\n",
       "Bronchial Asthma                           120\n",
       "Hypertension                               120\n",
       "Migraine                                   120\n",
       "Cervical spondylosis                       120\n",
       "Paralysis (brain hemorrhage)               120\n",
       "Jaundice                                   120\n",
       "Malaria                                    120\n",
       "Chicken pox                                120\n",
       "Dengue                                     120\n",
       "Typhoid                                    120\n",
       "Impetigo                                   120\n",
       "Name: count, dtype: int64"
      ]
     },
     "execution_count": 4,
     "metadata": {},
     "output_type": "execute_result"
    }
   ],
   "source": [
    "Data['Disease'].value_counts()"
   ]
  },
  {
   "cell_type": "code",
   "execution_count": 5,
   "id": "07da4645",
   "metadata": {},
   "outputs": [],
   "source": [
    "for col in Data.columns[1:]:\n",
    "    Data[col] = Data[col].astype(str)"
   ]
  },
  {
   "cell_type": "code",
   "execution_count": 6,
   "id": "a4dc9d59",
   "metadata": {},
   "outputs": [],
   "source": [
    "Data['combined_symptoms'] = Data.iloc[:, 1:].apply(lambda x: ' '.join(x.dropna().astype(str)), axis=1)"
   ]
  },
  {
   "cell_type": "code",
   "execution_count": 7,
   "id": "4a0c49e6",
   "metadata": {},
   "outputs": [
    {
     "data": {
      "text/html": [
       "<div>\n",
       "<style scoped>\n",
       "    .dataframe tbody tr th:only-of-type {\n",
       "        vertical-align: middle;\n",
       "    }\n",
       "\n",
       "    .dataframe tbody tr th {\n",
       "        vertical-align: top;\n",
       "    }\n",
       "\n",
       "    .dataframe thead th {\n",
       "        text-align: right;\n",
       "    }\n",
       "</style>\n",
       "<table border=\"1\" class=\"dataframe\">\n",
       "  <thead>\n",
       "    <tr style=\"text-align: right;\">\n",
       "      <th></th>\n",
       "      <th>Disease</th>\n",
       "      <th>combined_symptoms</th>\n",
       "    </tr>\n",
       "  </thead>\n",
       "  <tbody>\n",
       "    <tr>\n",
       "      <th>0</th>\n",
       "      <td>Fungal infection</td>\n",
       "      <td>itching  skin_rash  nodal_skin_eruptions  disc...</td>\n",
       "    </tr>\n",
       "    <tr>\n",
       "      <th>1</th>\n",
       "      <td>Fungal infection</td>\n",
       "      <td>skin_rash  nodal_skin_eruptions  dischromic _...</td>\n",
       "    </tr>\n",
       "    <tr>\n",
       "      <th>2</th>\n",
       "      <td>Fungal infection</td>\n",
       "      <td>itching  nodal_skin_eruptions  dischromic _pat...</td>\n",
       "    </tr>\n",
       "    <tr>\n",
       "      <th>3</th>\n",
       "      <td>Fungal infection</td>\n",
       "      <td>itching  skin_rash  dischromic _patches       ...</td>\n",
       "    </tr>\n",
       "    <tr>\n",
       "      <th>4</th>\n",
       "      <td>Fungal infection</td>\n",
       "      <td>itching  skin_rash  nodal_skin_eruptions      ...</td>\n",
       "    </tr>\n",
       "  </tbody>\n",
       "</table>\n",
       "</div>"
      ],
      "text/plain": [
       "            Disease                                  combined_symptoms\n",
       "0  Fungal infection  itching  skin_rash  nodal_skin_eruptions  disc...\n",
       "1  Fungal infection   skin_rash  nodal_skin_eruptions  dischromic _...\n",
       "2  Fungal infection  itching  nodal_skin_eruptions  dischromic _pat...\n",
       "3  Fungal infection  itching  skin_rash  dischromic _patches       ...\n",
       "4  Fungal infection  itching  skin_rash  nodal_skin_eruptions      ..."
      ]
     },
     "execution_count": 7,
     "metadata": {},
     "output_type": "execute_result"
    }
   ],
   "source": [
    "Data = Data.drop(Data.columns[1:-1], axis=1)\n",
    "Data.head()"
   ]
  },
  {
   "cell_type": "code",
   "execution_count": 8,
   "id": "4ddbb792",
   "metadata": {},
   "outputs": [],
   "source": [
    "Data['combined_symptoms'] = Data['combined_symptoms'].str.replace('_', ' ')"
   ]
  },
  {
   "cell_type": "code",
   "execution_count": 9,
   "id": "15eeec04",
   "metadata": {},
   "outputs": [],
   "source": [
    "Data['combined_symptoms'] = Data['combined_symptoms'].apply(lambda x: x.lower() if pd.notna(x) else \"\")"
   ]
  },
  {
   "cell_type": "code",
   "execution_count": 10,
   "id": "7537b6b5",
   "metadata": {},
   "outputs": [],
   "source": [
    "from sklearn.preprocessing import LabelEncoder\n",
    "\n",
    "label_encoder = LabelEncoder()\n",
    "Data['Disease'] = label_encoder.fit_transform(Data['Disease'])"
   ]
  },
  {
   "cell_type": "code",
   "execution_count": 11,
   "id": "92676667",
   "metadata": {},
   "outputs": [],
   "source": [
    "num_classes = len(label_encoder.classes_) "
   ]
  },
  {
   "cell_type": "code",
   "execution_count": 12,
   "id": "753f4b88",
   "metadata": {},
   "outputs": [],
   "source": [
    "x = Data['combined_symptoms']\n",
    "y = Data['Disease']"
   ]
  },
  {
   "cell_type": "code",
   "execution_count": 13,
   "id": "6369e19b",
   "metadata": {},
   "outputs": [
    {
     "name": "stdout",
     "output_type": "stream",
     "text": [
      "WARNING:tensorflow:From C:\\Users\\Naren\\AppData\\Local\\Packages\\PythonSoftwareFoundation.Python.3.10_qbz5n2kfra8p0\\LocalCache\\local-packages\\Python310\\site-packages\\keras\\src\\losses.py:2976: The name tf.losses.sparse_softmax_cross_entropy is deprecated. Please use tf.compat.v1.losses.sparse_softmax_cross_entropy instead.\n",
      "\n"
     ]
    }
   ],
   "source": [
    "from tensorflow.keras.utils import to_categorical\n",
    "\n",
    "y = to_categorical(y, num_classes=num_classes)"
   ]
  },
  {
   "cell_type": "code",
   "execution_count": 14,
   "id": "526d9637",
   "metadata": {},
   "outputs": [],
   "source": [
    "from sklearn.model_selection import train_test_split\n",
    "\n",
    "x_train, x_test, y_train, y_test = train_test_split(x, y, test_size=0.2, random_state=42)"
   ]
  },
  {
   "cell_type": "code",
   "execution_count": 15,
   "id": "10b2f33c",
   "metadata": {},
   "outputs": [],
   "source": [
    "max_words = 10000  \n",
    "max_sequence_length = 100"
   ]
  },
  {
   "cell_type": "code",
   "execution_count": 16,
   "id": "b94b922f",
   "metadata": {},
   "outputs": [],
   "source": [
    "from tensorflow.keras.preprocessing.text import Tokenizer\n",
    "\n",
    "tokenizer = Tokenizer(num_words=max_words)\n",
    "tokenizer.fit_on_texts(x_train)"
   ]
  },
  {
   "cell_type": "code",
   "execution_count": 17,
   "id": "8f4e9c46",
   "metadata": {},
   "outputs": [],
   "source": [
    "X_train_sequences = tokenizer.texts_to_sequences(x_train)\n",
    "X_test_sequences = tokenizer.texts_to_sequences(x_test)"
   ]
  },
  {
   "cell_type": "code",
   "execution_count": 18,
   "id": "6f831140",
   "metadata": {},
   "outputs": [],
   "source": [
    "from tensorflow.keras.preprocessing.sequence import pad_sequences\n",
    "\n",
    "X_train_padded = pad_sequences(X_train_sequences, maxlen=max_sequence_length)\n",
    "X_test_padded = pad_sequences(X_test_sequences, maxlen=max_sequence_length)"
   ]
  },
  {
   "cell_type": "code",
   "execution_count": 19,
   "id": "490ac782",
   "metadata": {},
   "outputs": [],
   "source": [
    "embedding_dim = 100  \n",
    "lstm_units = 128"
   ]
  },
  {
   "cell_type": "code",
   "execution_count": 20,
   "id": "e8491acc",
   "metadata": {},
   "outputs": [],
   "source": [
    "from tensorflow.keras.models import Sequential\n",
    "from tensorflow.keras.layers import Embedding\n",
    "from tensorflow.keras.layers import Bidirectional\n",
    "from tensorflow.keras.layers import LSTM\n",
    "from tensorflow.keras.layers import Dense"
   ]
  },
  {
   "cell_type": "code",
   "execution_count": 21,
   "id": "52b2d9ee",
   "metadata": {},
   "outputs": [
    {
     "name": "stdout",
     "output_type": "stream",
     "text": [
      "WARNING:tensorflow:From C:\\Users\\Naren\\AppData\\Local\\Packages\\PythonSoftwareFoundation.Python.3.10_qbz5n2kfra8p0\\LocalCache\\local-packages\\Python310\\site-packages\\keras\\src\\backend.py:873: The name tf.get_default_graph is deprecated. Please use tf.compat.v1.get_default_graph instead.\n",
      "\n"
     ]
    }
   ],
   "source": [
    "model = Sequential()\n",
    "model.add(Embedding(input_dim=max_words, output_dim=embedding_dim, input_length=max_sequence_length))\n",
    "model.add(Bidirectional(LSTM(units=lstm_units, dropout=0.2, recurrent_dropout=0.2)))\n",
    "model.add(Dense(units=num_classes, activation='softmax'))"
   ]
  },
  {
   "cell_type": "code",
   "execution_count": 22,
   "id": "db721ff6",
   "metadata": {},
   "outputs": [
    {
     "name": "stdout",
     "output_type": "stream",
     "text": [
      "WARNING:tensorflow:From C:\\Users\\Naren\\AppData\\Local\\Packages\\PythonSoftwareFoundation.Python.3.10_qbz5n2kfra8p0\\LocalCache\\local-packages\\Python310\\site-packages\\keras\\src\\optimizers\\__init__.py:309: The name tf.train.Optimizer is deprecated. Please use tf.compat.v1.train.Optimizer instead.\n",
      "\n"
     ]
    }
   ],
   "source": [
    "model.compile(loss='categorical_crossentropy', optimizer='adam', metrics=['accuracy'])"
   ]
  },
  {
   "cell_type": "code",
   "execution_count": 23,
   "id": "a4cb3f7d",
   "metadata": {},
   "outputs": [],
   "source": [
    "from tensorflow.keras.callbacks import ModelCheckpoint\n",
    "\n",
    "model_checkpoint = ModelCheckpoint('LSTM.h5', \n",
    "                                   monitor='accuracy', \n",
    "                                   save_best_only=True, \n",
    "                                   verbose=1,\n",
    "                                   mode='max')"
   ]
  },
  {
   "cell_type": "code",
   "execution_count": 24,
   "id": "34a45025",
   "metadata": {},
   "outputs": [],
   "source": [
    "epochs = 50\n",
    "batch_size = 32"
   ]
  },
  {
   "cell_type": "code",
   "execution_count": 25,
   "id": "1a806964",
   "metadata": {},
   "outputs": [
    {
     "name": "stdout",
     "output_type": "stream",
     "text": [
      "Epoch 1/50\n",
      "WARNING:tensorflow:From C:\\Users\\Naren\\AppData\\Local\\Packages\\PythonSoftwareFoundation.Python.3.10_qbz5n2kfra8p0\\LocalCache\\local-packages\\Python310\\site-packages\\keras\\src\\utils\\tf_utils.py:492: The name tf.ragged.RaggedTensorValue is deprecated. Please use tf.compat.v1.ragged.RaggedTensorValue instead.\n",
      "\n",
      "WARNING:tensorflow:From C:\\Users\\Naren\\AppData\\Local\\Packages\\PythonSoftwareFoundation.Python.3.10_qbz5n2kfra8p0\\LocalCache\\local-packages\\Python310\\site-packages\\keras\\src\\engine\\base_layer_utils.py:384: The name tf.executing_eagerly_outside_functions is deprecated. Please use tf.compat.v1.executing_eagerly_outside_functions instead.\n",
      "\n",
      "111/111 [==============================] - ETA: 0s - loss: 2.5384 - accuracy: 0.4650\n",
      "Epoch 1: accuracy improved from -inf to 0.46499, saving model to LSTM.h5\n",
      "111/111 [==============================] - 21s 148ms/step - loss: 2.5384 - accuracy: 0.4650 - val_loss: 0.6651 - val_accuracy: 0.9543\n",
      "Epoch 2/50\n",
      "  1/111 [..............................] - ETA: 13s - loss: 0.7044 - accuracy: 0.9688"
     ]
    },
    {
     "name": "stderr",
     "output_type": "stream",
     "text": [
      "C:\\Users\\Naren\\AppData\\Local\\Packages\\PythonSoftwareFoundation.Python.3.10_qbz5n2kfra8p0\\LocalCache\\local-packages\\Python310\\site-packages\\keras\\src\\engine\\training.py:3103: UserWarning: You are saving your model as an HDF5 file via `model.save()`. This file format is considered legacy. We recommend using instead the native Keras format, e.g. `model.save('my_model.keras')`.\n",
      "  saving_api.save_model(\n"
     ]
    },
    {
     "name": "stdout",
     "output_type": "stream",
     "text": [
      "111/111 [==============================] - ETA: 0s - loss: 0.2345 - accuracy: 0.9887\n",
      "Epoch 2: accuracy improved from 0.46499 to 0.98871, saving model to LSTM.h5\n",
      "111/111 [==============================] - 15s 137ms/step - loss: 0.2345 - accuracy: 0.9887 - val_loss: 0.0603 - val_accuracy: 1.0000\n",
      "Epoch 3/50\n",
      "111/111 [==============================] - ETA: 0s - loss: 0.0476 - accuracy: 0.9986\n",
      "Epoch 3: accuracy improved from 0.98871 to 0.99859, saving model to LSTM.h5\n",
      "111/111 [==============================] - 15s 134ms/step - loss: 0.0476 - accuracy: 0.9986 - val_loss: 0.0191 - val_accuracy: 1.0000\n",
      "Epoch 4/50\n",
      "111/111 [==============================] - ETA: 0s - loss: 0.0232 - accuracy: 0.9989\n",
      "Epoch 4: accuracy improved from 0.99859 to 0.99887, saving model to LSTM.h5\n",
      "111/111 [==============================] - 15s 137ms/step - loss: 0.0232 - accuracy: 0.9989 - val_loss: 0.0110 - val_accuracy: 1.0000\n",
      "Epoch 5/50\n",
      "111/111 [==============================] - ETA: 0s - loss: 0.0117 - accuracy: 1.0000\n",
      "Epoch 5: accuracy improved from 0.99887 to 1.00000, saving model to LSTM.h5\n",
      "111/111 [==============================] - 15s 135ms/step - loss: 0.0117 - accuracy: 1.0000 - val_loss: 0.0071 - val_accuracy: 1.0000\n",
      "Epoch 6/50\n",
      "111/111 [==============================] - ETA: 0s - loss: 0.0113 - accuracy: 0.9994\n",
      "Epoch 6: accuracy did not improve from 1.00000\n",
      "111/111 [==============================] - 15s 139ms/step - loss: 0.0113 - accuracy: 0.9994 - val_loss: 0.0049 - val_accuracy: 1.0000\n",
      "Epoch 7/50\n",
      "111/111 [==============================] - ETA: 0s - loss: 0.0056 - accuracy: 1.0000\n",
      "Epoch 7: accuracy did not improve from 1.00000\n",
      "111/111 [==============================] - 14s 129ms/step - loss: 0.0056 - accuracy: 1.0000 - val_loss: 0.0033 - val_accuracy: 1.0000\n",
      "Epoch 8/50\n",
      "111/111 [==============================] - ETA: 0s - loss: 0.0040 - accuracy: 1.0000\n",
      "Epoch 8: accuracy did not improve from 1.00000\n",
      "111/111 [==============================] - 14s 130ms/step - loss: 0.0040 - accuracy: 1.0000 - val_loss: 0.0025 - val_accuracy: 1.0000\n",
      "Epoch 9/50\n",
      "111/111 [==============================] - ETA: 0s - loss: 0.0032 - accuracy: 1.0000\n",
      "Epoch 9: accuracy did not improve from 1.00000\n",
      "111/111 [==============================] - 15s 139ms/step - loss: 0.0032 - accuracy: 1.0000 - val_loss: 0.0021 - val_accuracy: 1.0000\n",
      "Epoch 10/50\n",
      "111/111 [==============================] - ETA: 0s - loss: 0.0027 - accuracy: 1.0000\n",
      "Epoch 10: accuracy did not improve from 1.00000\n",
      "111/111 [==============================] - 15s 136ms/step - loss: 0.0027 - accuracy: 1.0000 - val_loss: 0.0016 - val_accuracy: 1.0000\n",
      "Epoch 11/50\n",
      "111/111 [==============================] - ETA: 0s - loss: 0.0022 - accuracy: 1.0000\n",
      "Epoch 11: accuracy did not improve from 1.00000\n",
      "111/111 [==============================] - 15s 138ms/step - loss: 0.0022 - accuracy: 1.0000 - val_loss: 0.0014 - val_accuracy: 1.0000\n",
      "Epoch 12/50\n",
      "111/111 [==============================] - ETA: 0s - loss: 0.0304 - accuracy: 0.9910\n",
      "Epoch 12: accuracy did not improve from 1.00000\n",
      "111/111 [==============================] - 15s 137ms/step - loss: 0.0304 - accuracy: 0.9910 - val_loss: 0.0037 - val_accuracy: 1.0000\n",
      "Epoch 13/50\n",
      "111/111 [==============================] - ETA: 0s - loss: 0.0046 - accuracy: 0.9994\n",
      "Epoch 13: accuracy did not improve from 1.00000\n",
      "111/111 [==============================] - 17s 151ms/step - loss: 0.0046 - accuracy: 0.9994 - val_loss: 0.0023 - val_accuracy: 1.0000\n",
      "Epoch 14/50\n",
      "111/111 [==============================] - ETA: 0s - loss: 0.0035 - accuracy: 1.0000\n",
      "Epoch 14: accuracy did not improve from 1.00000\n",
      "111/111 [==============================] - 18s 162ms/step - loss: 0.0035 - accuracy: 1.0000 - val_loss: 0.0013 - val_accuracy: 1.0000\n",
      "Epoch 15/50\n",
      "111/111 [==============================] - ETA: 0s - loss: 0.0016 - accuracy: 1.0000\n",
      "Epoch 15: accuracy did not improve from 1.00000\n",
      "111/111 [==============================] - 19s 168ms/step - loss: 0.0016 - accuracy: 1.0000 - val_loss: 9.5097e-04 - val_accuracy: 1.0000\n",
      "Epoch 16/50\n",
      "111/111 [==============================] - ETA: 0s - loss: 0.0013 - accuracy: 1.0000\n",
      "Epoch 16: accuracy did not improve from 1.00000\n",
      "111/111 [==============================] - 16s 149ms/step - loss: 0.0013 - accuracy: 1.0000 - val_loss: 7.4743e-04 - val_accuracy: 1.0000\n",
      "Epoch 17/50\n",
      "111/111 [==============================] - ETA: 0s - loss: 0.0010 - accuracy: 1.0000\n",
      "Epoch 17: accuracy did not improve from 1.00000\n",
      "111/111 [==============================] - 16s 145ms/step - loss: 0.0010 - accuracy: 1.0000 - val_loss: 6.2525e-04 - val_accuracy: 1.0000\n",
      "Epoch 18/50\n",
      "111/111 [==============================] - ETA: 0s - loss: 8.4657e-04 - accuracy: 1.0000\n",
      "Epoch 18: accuracy did not improve from 1.00000\n",
      "111/111 [==============================] - 16s 145ms/step - loss: 8.4657e-04 - accuracy: 1.0000 - val_loss: 5.3758e-04 - val_accuracy: 1.0000\n",
      "Epoch 19/50\n",
      "111/111 [==============================] - ETA: 0s - loss: 7.3404e-04 - accuracy: 1.0000\n",
      "Epoch 19: accuracy did not improve from 1.00000\n",
      "111/111 [==============================] - 16s 146ms/step - loss: 7.3404e-04 - accuracy: 1.0000 - val_loss: 4.7052e-04 - val_accuracy: 1.0000\n",
      "Epoch 20/50\n",
      "111/111 [==============================] - ETA: 0s - loss: 6.4435e-04 - accuracy: 1.0000\n",
      "Epoch 20: accuracy did not improve from 1.00000\n",
      "111/111 [==============================] - 17s 152ms/step - loss: 6.4435e-04 - accuracy: 1.0000 - val_loss: 4.1739e-04 - val_accuracy: 1.0000\n",
      "Epoch 21/50\n",
      "111/111 [==============================] - ETA: 0s - loss: 5.7655e-04 - accuracy: 1.0000\n",
      "Epoch 21: accuracy did not improve from 1.00000\n",
      "111/111 [==============================] - 18s 163ms/step - loss: 5.7655e-04 - accuracy: 1.0000 - val_loss: 3.7320e-04 - val_accuracy: 1.0000\n",
      "Epoch 22/50\n",
      "111/111 [==============================] - ETA: 0s - loss: 5.2140e-04 - accuracy: 1.0000\n",
      "Epoch 22: accuracy did not improve from 1.00000\n",
      "111/111 [==============================] - 16s 146ms/step - loss: 5.2140e-04 - accuracy: 1.0000 - val_loss: 3.3630e-04 - val_accuracy: 1.0000\n",
      "Epoch 23/50\n",
      "111/111 [==============================] - ETA: 0s - loss: 4.7152e-04 - accuracy: 1.0000\n",
      "Epoch 23: accuracy did not improve from 1.00000\n",
      "111/111 [==============================] - 17s 151ms/step - loss: 4.7152e-04 - accuracy: 1.0000 - val_loss: 3.0538e-04 - val_accuracy: 1.0000\n",
      "Epoch 24/50\n",
      "111/111 [==============================] - ETA: 0s - loss: 4.2850e-04 - accuracy: 1.0000\n",
      "Epoch 24: accuracy did not improve from 1.00000\n",
      "111/111 [==============================] - 16s 147ms/step - loss: 4.2850e-04 - accuracy: 1.0000 - val_loss: 2.7742e-04 - val_accuracy: 1.0000\n",
      "Epoch 25/50\n",
      "111/111 [==============================] - ETA: 0s - loss: 3.9040e-04 - accuracy: 1.0000\n",
      "Epoch 25: accuracy did not improve from 1.00000\n",
      "111/111 [==============================] - 18s 158ms/step - loss: 3.9040e-04 - accuracy: 1.0000 - val_loss: 2.5310e-04 - val_accuracy: 1.0000\n",
      "Epoch 26/50\n",
      "111/111 [==============================] - ETA: 0s - loss: 3.5933e-04 - accuracy: 1.0000\n",
      "Epoch 26: accuracy did not improve from 1.00000\n",
      "111/111 [==============================] - 17s 149ms/step - loss: 3.5933e-04 - accuracy: 1.0000 - val_loss: 2.3177e-04 - val_accuracy: 1.0000\n",
      "Epoch 27/50\n",
      "111/111 [==============================] - ETA: 0s - loss: 3.4094e-04 - accuracy: 1.0000\n",
      "Epoch 27: accuracy did not improve from 1.00000\n",
      "111/111 [==============================] - 16s 145ms/step - loss: 3.4094e-04 - accuracy: 1.0000 - val_loss: 2.1594e-04 - val_accuracy: 1.0000\n",
      "Epoch 28/50\n",
      "111/111 [==============================] - ETA: 0s - loss: 3.0475e-04 - accuracy: 1.0000\n",
      "Epoch 28: accuracy did not improve from 1.00000\n",
      "111/111 [==============================] - 15s 137ms/step - loss: 3.0475e-04 - accuracy: 1.0000 - val_loss: 1.9728e-04 - val_accuracy: 1.0000\n",
      "Epoch 29/50\n",
      "111/111 [==============================] - ETA: 0s - loss: 2.7817e-04 - accuracy: 1.0000\n",
      "Epoch 29: accuracy did not improve from 1.00000\n",
      "111/111 [==============================] - 17s 156ms/step - loss: 2.7817e-04 - accuracy: 1.0000 - val_loss: 1.8218e-04 - val_accuracy: 1.0000\n",
      "Epoch 30/50\n",
      "111/111 [==============================] - ETA: 0s - loss: 2.6000e-04 - accuracy: 1.0000\n",
      "Epoch 30: accuracy did not improve from 1.00000\n",
      "111/111 [==============================] - 18s 161ms/step - loss: 2.6000e-04 - accuracy: 1.0000 - val_loss: 1.6886e-04 - val_accuracy: 1.0000\n",
      "Epoch 31/50\n",
      "111/111 [==============================] - ETA: 0s - loss: 2.3791e-04 - accuracy: 1.0000\n",
      "Epoch 31: accuracy did not improve from 1.00000\n",
      "111/111 [==============================] - 17s 150ms/step - loss: 2.3791e-04 - accuracy: 1.0000 - val_loss: 1.5593e-04 - val_accuracy: 1.0000\n",
      "Epoch 32/50\n",
      "111/111 [==============================] - ETA: 0s - loss: 2.3052e-04 - accuracy: 1.0000\n",
      "Epoch 32: accuracy did not improve from 1.00000\n",
      "111/111 [==============================] - 18s 162ms/step - loss: 2.3052e-04 - accuracy: 1.0000 - val_loss: 1.4895e-04 - val_accuracy: 1.0000\n",
      "Epoch 33/50\n",
      "111/111 [==============================] - ETA: 0s - loss: 2.1642e-04 - accuracy: 1.0000\n",
      "Epoch 33: accuracy did not improve from 1.00000\n",
      "111/111 [==============================] - 16s 145ms/step - loss: 2.1642e-04 - accuracy: 1.0000 - val_loss: 1.3522e-04 - val_accuracy: 1.0000\n",
      "Epoch 34/50\n",
      "111/111 [==============================] - ETA: 0s - loss: 1.9492e-04 - accuracy: 1.0000\n",
      "Epoch 34: accuracy did not improve from 1.00000\n",
      "111/111 [==============================] - 17s 153ms/step - loss: 1.9492e-04 - accuracy: 1.0000 - val_loss: 1.2562e-04 - val_accuracy: 1.0000\n",
      "Epoch 35/50\n",
      "111/111 [==============================] - ETA: 0s - loss: 1.8368e-04 - accuracy: 1.0000\n",
      "Epoch 35: accuracy did not improve from 1.00000\n",
      "111/111 [==============================] - 16s 145ms/step - loss: 1.8368e-04 - accuracy: 1.0000 - val_loss: 1.1773e-04 - val_accuracy: 1.0000\n",
      "Epoch 36/50\n",
      "111/111 [==============================] - ETA: 0s - loss: 1.7207e-04 - accuracy: 1.0000\n",
      "Epoch 36: accuracy did not improve from 1.00000\n",
      "111/111 [==============================] - 16s 145ms/step - loss: 1.7207e-04 - accuracy: 1.0000 - val_loss: 1.0942e-04 - val_accuracy: 1.0000\n",
      "Epoch 37/50\n",
      "111/111 [==============================] - ETA: 0s - loss: 1.5813e-04 - accuracy: 1.0000\n",
      "Epoch 37: accuracy did not improve from 1.00000\n",
      "111/111 [==============================] - 16s 140ms/step - loss: 1.5813e-04 - accuracy: 1.0000 - val_loss: 1.0236e-04 - val_accuracy: 1.0000\n",
      "Epoch 38/50\n",
      "111/111 [==============================] - ETA: 0s - loss: 1.4844e-04 - accuracy: 1.0000\n",
      "Epoch 38: accuracy did not improve from 1.00000\n",
      "111/111 [==============================] - 15s 139ms/step - loss: 1.4844e-04 - accuracy: 1.0000 - val_loss: 9.5534e-05 - val_accuracy: 1.0000\n",
      "Epoch 39/50\n",
      "111/111 [==============================] - ETA: 0s - loss: 1.3964e-04 - accuracy: 1.0000\n",
      "Epoch 39: accuracy did not improve from 1.00000\n",
      "111/111 [==============================] - 16s 141ms/step - loss: 1.3964e-04 - accuracy: 1.0000 - val_loss: 8.9733e-05 - val_accuracy: 1.0000\n",
      "Epoch 40/50\n",
      "111/111 [==============================] - ETA: 0s - loss: 1.3135e-04 - accuracy: 1.0000\n",
      "Epoch 40: accuracy did not improve from 1.00000\n",
      "111/111 [==============================] - 16s 147ms/step - loss: 1.3135e-04 - accuracy: 1.0000 - val_loss: 8.3806e-05 - val_accuracy: 1.0000\n",
      "Epoch 41/50\n",
      "111/111 [==============================] - ETA: 0s - loss: 1.2376e-04 - accuracy: 1.0000\n",
      "Epoch 41: accuracy did not improve from 1.00000\n",
      "111/111 [==============================] - 16s 143ms/step - loss: 1.2376e-04 - accuracy: 1.0000 - val_loss: 7.8427e-05 - val_accuracy: 1.0000\n",
      "Epoch 42/50\n",
      "111/111 [==============================] - ETA: 0s - loss: 1.1426e-04 - accuracy: 1.0000\n",
      "Epoch 42: accuracy did not improve from 1.00000\n",
      "111/111 [==============================] - 15s 138ms/step - loss: 1.1426e-04 - accuracy: 1.0000 - val_loss: 7.3669e-05 - val_accuracy: 1.0000\n",
      "Epoch 43/50\n",
      "111/111 [==============================] - ETA: 0s - loss: 1.1011e-04 - accuracy: 1.0000\n",
      "Epoch 43: accuracy did not improve from 1.00000\n",
      "111/111 [==============================] - 15s 139ms/step - loss: 1.1011e-04 - accuracy: 1.0000 - val_loss: 6.8942e-05 - val_accuracy: 1.0000\n",
      "Epoch 44/50\n",
      "111/111 [==============================] - ETA: 0s - loss: 1.0256e-04 - accuracy: 1.0000\n",
      "Epoch 44: accuracy did not improve from 1.00000\n",
      "111/111 [==============================] - 15s 136ms/step - loss: 1.0256e-04 - accuracy: 1.0000 - val_loss: 6.4522e-05 - val_accuracy: 1.0000\n",
      "Epoch 45/50\n",
      "111/111 [==============================] - ETA: 0s - loss: 9.7675e-05 - accuracy: 1.0000\n",
      "Epoch 45: accuracy did not improve from 1.00000\n",
      "111/111 [==============================] - 15s 139ms/step - loss: 9.7675e-05 - accuracy: 1.0000 - val_loss: 6.0751e-05 - val_accuracy: 1.0000\n",
      "Epoch 46/50\n",
      "111/111 [==============================] - ETA: 0s - loss: 9.2789e-05 - accuracy: 1.0000\n",
      "Epoch 46: accuracy did not improve from 1.00000\n",
      "111/111 [==============================] - 15s 137ms/step - loss: 9.2789e-05 - accuracy: 1.0000 - val_loss: 5.6635e-05 - val_accuracy: 1.0000\n",
      "Epoch 47/50\n",
      "111/111 [==============================] - ETA: 0s - loss: 9.8870e-05 - accuracy: 1.0000\n",
      "Epoch 47: accuracy did not improve from 1.00000\n",
      "111/111 [==============================] - 15s 138ms/step - loss: 9.8870e-05 - accuracy: 1.0000 - val_loss: 5.6330e-05 - val_accuracy: 1.0000\n",
      "Epoch 48/50\n",
      "111/111 [==============================] - ETA: 0s - loss: 8.2797e-05 - accuracy: 1.0000\n",
      "Epoch 48: accuracy did not improve from 1.00000\n",
      "111/111 [==============================] - 15s 138ms/step - loss: 8.2797e-05 - accuracy: 1.0000 - val_loss: 5.1073e-05 - val_accuracy: 1.0000\n",
      "Epoch 49/50\n",
      "111/111 [==============================] - ETA: 0s - loss: 7.7174e-05 - accuracy: 1.0000\n",
      "Epoch 49: accuracy did not improve from 1.00000\n",
      "111/111 [==============================] - 15s 136ms/step - loss: 7.7174e-05 - accuracy: 1.0000 - val_loss: 4.8039e-05 - val_accuracy: 1.0000\n",
      "Epoch 50/50\n",
      "111/111 [==============================] - ETA: 0s - loss: 7.1155e-05 - accuracy: 1.0000\n",
      "Epoch 50: accuracy did not improve from 1.00000\n",
      "111/111 [==============================] - 16s 144ms/step - loss: 7.1155e-05 - accuracy: 1.0000 - val_loss: 4.5759e-05 - val_accuracy: 1.0000\n"
     ]
    },
    {
     "data": {
      "text/plain": [
       "<keras.src.callbacks.History at 0x2f07da93910>"
      ]
     },
     "execution_count": 25,
     "metadata": {},
     "output_type": "execute_result"
    }
   ],
   "source": [
    "model.fit(X_train_padded, y_train, epochs=epochs, batch_size=batch_size, validation_split=0.1,callbacks=[model_checkpoint])"
   ]
  },
  {
   "cell_type": "code",
   "execution_count": 26,
   "id": "cb25308f",
   "metadata": {},
   "outputs": [
    {
     "name": "stdout",
     "output_type": "stream",
     "text": [
      "31/31 [==============================] - 1s 24ms/step\n"
     ]
    }
   ],
   "source": [
    "y_pred = model.predict(X_test_padded)\n",
    "y_pred_classes = np.argmax(y_pred, axis=1)\n",
    "y_true_classes = np.argmax(y_test, axis=1)"
   ]
  },
  {
   "cell_type": "code",
   "execution_count": 27,
   "id": "a6f0f26b",
   "metadata": {},
   "outputs": [
    {
     "name": "stdout",
     "output_type": "stream",
     "text": [
      "THE ACCURACY SCORE OF LSTM ARCHITECTURE IS : 100.0\n"
     ]
    }
   ],
   "source": [
    "from sklearn.metrics import accuracy_score\n",
    "\n",
    "AC = accuracy_score(y_true_classes,y_pred_classes)\n",
    "\n",
    "print(\"THE ACCURACY SCORE OF LSTM ARCHITECTURE IS :\",AC*100)"
   ]
  },
  {
   "cell_type": "code",
   "execution_count": 28,
   "id": "f6ced910",
   "metadata": {},
   "outputs": [
    {
     "name": "stdout",
     "output_type": "stream",
     "text": [
      "THE HAMMING LOSS OF LSTM ARCHITECTURE IS : 0.0\n"
     ]
    }
   ],
   "source": [
    "from sklearn.metrics import hamming_loss\n",
    "\n",
    "HL = hamming_loss(y_true_classes,y_pred_classes)\n",
    "\n",
    "print(\"THE HAMMING LOSS OF LSTM ARCHITECTURE IS :\",HL*100)"
   ]
  },
  {
   "cell_type": "code",
   "execution_count": 29,
   "id": "7f1c3938",
   "metadata": {},
   "outputs": [
    {
     "name": "stdout",
     "output_type": "stream",
     "text": [
      "THE PRECISION SCORE OF LSTM ARCHITECTURE:\n",
      "\n",
      "\n",
      "               precision    recall  f1-score   support\n",
      "\n",
      "           0       1.00      1.00      1.00        18\n",
      "           1       1.00      1.00      1.00        30\n",
      "           2       1.00      1.00      1.00        24\n",
      "           3       1.00      1.00      1.00        25\n",
      "           4       1.00      1.00      1.00        24\n",
      "           5       1.00      1.00      1.00        23\n",
      "           6       1.00      1.00      1.00        33\n",
      "           7       1.00      1.00      1.00        23\n",
      "           8       1.00      1.00      1.00        21\n",
      "           9       1.00      1.00      1.00        15\n",
      "          10       1.00      1.00      1.00        23\n",
      "          11       1.00      1.00      1.00        26\n",
      "          12       1.00      1.00      1.00        21\n",
      "          13       1.00      1.00      1.00        29\n",
      "          14       1.00      1.00      1.00        24\n",
      "          15       1.00      1.00      1.00        19\n",
      "          16       1.00      1.00      1.00        28\n",
      "          17       1.00      1.00      1.00        25\n",
      "          18       1.00      1.00      1.00        23\n",
      "          19       1.00      1.00      1.00        27\n",
      "          20       1.00      1.00      1.00        26\n",
      "          21       1.00      1.00      1.00        23\n",
      "          22       1.00      1.00      1.00        29\n",
      "          23       1.00      1.00      1.00        25\n",
      "          24       1.00      1.00      1.00        24\n",
      "          25       1.00      1.00      1.00        26\n",
      "          26       1.00      1.00      1.00        21\n",
      "          27       1.00      1.00      1.00        24\n",
      "          28       1.00      1.00      1.00        19\n",
      "          29       1.00      1.00      1.00        22\n",
      "          30       1.00      1.00      1.00        25\n",
      "          31       1.00      1.00      1.00        22\n",
      "          32       1.00      1.00      1.00        24\n",
      "          33       1.00      1.00      1.00        17\n",
      "          34       1.00      1.00      1.00        28\n",
      "          35       1.00      1.00      1.00        22\n",
      "          36       1.00      1.00      1.00        25\n",
      "          37       1.00      1.00      1.00        19\n",
      "          38       1.00      1.00      1.00        26\n",
      "          39       1.00      1.00      1.00        22\n",
      "          40       1.00      1.00      1.00        34\n",
      "\n",
      "    accuracy                           1.00       984\n",
      "   macro avg       1.00      1.00      1.00       984\n",
      "weighted avg       1.00      1.00      1.00       984\n",
      "\n"
     ]
    }
   ],
   "source": [
    "from sklearn.metrics import classification_report\n",
    "\n",
    "CR = classification_report(y_pred_classes,y_true_classes)\n",
    "\n",
    "print('THE PRECISION SCORE OF LSTM ARCHITECTURE:\\n\\n\\n',CR)"
   ]
  },
  {
   "cell_type": "code",
   "execution_count": 30,
   "id": "2c8d5164",
   "metadata": {},
   "outputs": [
    {
     "name": "stdout",
     "output_type": "stream",
     "text": [
      "THE CONFUSION MATRIX SCORE OF LSTM ARCHITECTURE:\n",
      "\n",
      "\n",
      " [[18  0  0 ...  0  0  0]\n",
      " [ 0 30  0 ...  0  0  0]\n",
      " [ 0  0 24 ...  0  0  0]\n",
      " ...\n",
      " [ 0  0  0 ... 26  0  0]\n",
      " [ 0  0  0 ...  0 22  0]\n",
      " [ 0  0  0 ...  0  0 34]]\n"
     ]
    }
   ],
   "source": [
    "from sklearn.metrics import confusion_matrix\n",
    "\n",
    "CM = confusion_matrix(y_true_classes,y_pred_classes)\n",
    "\n",
    "print('THE CONFUSION MATRIX SCORE OF LSTM ARCHITECTURE:\\n\\n\\n',CM)"
   ]
  },
  {
   "cell_type": "code",
   "execution_count": 31,
   "id": "91a18df0",
   "metadata": {},
   "outputs": [
    {
     "data": {
      "image/png": "[encoded data removed]",
      "text/plain": [
       "<Figure size 640x480 with 2 Axes>"
      ]
     },
     "metadata": {},
     "output_type": "display_data"
    }
   ],
   "source": [
    "import numpy as np\n",
    "import matplotlib.pyplot as plt\n",
    "from sklearn.metrics import confusion_matrix, ConfusionMatrixDisplay\n",
    "\n",
    "# Assuming you have the y_pred_classes and y_true_classes arrays with predicted and true labels respectively.\n",
    "\n",
    "# Calculate the confusion matrix\n",
    "cm = confusion_matrix(y_true_classes, y_pred_classes)\n",
    "\n",
    "# Display the confusion matrix using ConfusionMatrixDisplay\n",
    "classes = np.arange(cm.shape[0])  # Assuming your classes are integers from 0 to n_classes-1\n",
    "disp = ConfusionMatrixDisplay(confusion_matrix=cm, display_labels=classes)\n",
    "disp.plot(cmap='viridis', values_format='d')\n",
    "\n",
    "plt.title('DISPLAY CONFUSION MATRIX OF LSTM ARCHITECTURE\\n\\n')\n",
    "plt.xlabel('Predicted Label')\n",
    "plt.ylabel('True Label')\n",
    "plt.show()\n"
   ]
  },
  {
   "cell_type": "code",
   "execution_count": 32,
   "id": "f9aeded0",
   "metadata": {},
   "outputs": [
    {
     "data": {
      "image/png": "[encoded data removed]",
      "text/plain": [
       "<Figure size 500x500 with 1 Axes>"
      ]
     },
     "metadata": {},
     "output_type": "display_data"
    }
   ],
   "source": [
    "def graph():\n",
    "    import matplotlib.pyplot as plt\n",
    "    data=[AC]\n",
    "    alg=\"LSTM ARCHITECTURE\"\n",
    "    plt.figure(figsize=(5,5))\n",
    "    b=plt.bar(alg,data,color=(\"YELLOW\"))\n",
    "    plt.title(\"THE ACCURACY SCORE OF LSTM ARCHITECTURE IS\\n\\n\\n\")\n",
    "    plt.legend(b,data,fontsize=9)\n",
    "graph()"
   ]
  },
  {
   "cell_type": "code",
   "execution_count": null,
   "id": "4171c8be",
   "metadata": {},
   "outputs": [],
   "source": []
  },
  {
   "cell_type": "code",
   "execution_count": null,
   "id": "f1d6e091",
   "metadata": {},
   "outputs": [],
   "source": []
  }
 ],
 "metadata": {
  "kernelspec": {
   "display_name": "Python 3 (ipykernel)",
   "language": "python",
   "name": "python3"
  },
  "language_info": {
   "codemirror_mode": {
    "name": "ipython",
    "version": 3
   },
   "file_extension": ".py",
   "mimetype": "text/x-python",
   "name": "python",
   "nbconvert_exporter": "python",
   "pygments_lexer": "ipython3",
   "version": "3.10.11"
  }
 },
 "nbformat": 4,
 "nbformat_minor": 5
}
